{
 "cells": [
  {
   "cell_type": "markdown",
   "metadata": {},
   "source": [
    "# Data5(점포 정보) 분석"
   ]
  },
  {
   "cell_type": "code",
   "execution_count": 1,
   "metadata": {},
   "outputs": [],
   "source": [
    "# import libraries\n",
    "import pandas as pd\n",
    "import matplotlib.pyplot as plt\n",
    "import seaborn as sns"
   ]
  },
  {
   "cell_type": "code",
   "execution_count": 2,
   "metadata": {},
   "outputs": [],
   "source": [
    "# set needed variables\n",
    "plt.rcParams['font.family'] = 'Malgun Gothic' # font\n",
    "zone_order = ['Z01', 'Z02', 'Z03', 'Z04', 'Z05', 'Z06', 'Z07', 'Z08', \n",
    "    'Z09', 'Z10', 'Z11', 'Z12', 'Z13', 'Z14', 'Z15', 'Z16', 'Z17']"
   ]
  },
  {
   "cell_type": "code",
   "execution_count": 3,
   "metadata": {},
   "outputs": [
    {
     "data": {
      "text/html": [
       "<div>\n",
       "<style scoped>\n",
       "    .dataframe tbody tr th:only-of-type {\n",
       "        vertical-align: middle;\n",
       "    }\n",
       "\n",
       "    .dataframe tbody tr th {\n",
       "        vertical-align: top;\n",
       "    }\n",
       "\n",
       "    .dataframe thead th {\n",
       "        text-align: right;\n",
       "    }\n",
       "</style>\n",
       "<table border=\"1\" class=\"dataframe\">\n",
       "  <thead>\n",
       "    <tr style=\"text-align: right;\">\n",
       "      <th></th>\n",
       "      <th>br_c</th>\n",
       "      <th>cop_c</th>\n",
       "      <th>zon_hlv</th>\n",
       "      <th>zon_mcls</th>\n",
       "    </tr>\n",
       "  </thead>\n",
       "  <tbody>\n",
       "    <tr>\n",
       "      <th>0</th>\n",
       "      <td>A010001</td>\n",
       "      <td>A01</td>\n",
       "      <td>Z17</td>\n",
       "      <td>Z17024</td>\n",
       "    </tr>\n",
       "    <tr>\n",
       "      <th>1</th>\n",
       "      <td>A010002</td>\n",
       "      <td>A01</td>\n",
       "      <td>Z17</td>\n",
       "      <td>Z17018</td>\n",
       "    </tr>\n",
       "    <tr>\n",
       "      <th>2</th>\n",
       "      <td>A010003</td>\n",
       "      <td>A01</td>\n",
       "      <td>Z17</td>\n",
       "      <td>Z17011</td>\n",
       "    </tr>\n",
       "    <tr>\n",
       "      <th>3</th>\n",
       "      <td>A010004</td>\n",
       "      <td>A01</td>\n",
       "      <td>Z16</td>\n",
       "      <td>Z16007</td>\n",
       "    </tr>\n",
       "    <tr>\n",
       "      <th>4</th>\n",
       "      <td>A010005</td>\n",
       "      <td>A01</td>\n",
       "      <td>Z17</td>\n",
       "      <td>Z17005</td>\n",
       "    </tr>\n",
       "  </tbody>\n",
       "</table>\n",
       "</div>"
      ],
      "text/plain": [
       "      br_c cop_c zon_hlv zon_mcls\n",
       "0  A010001   A01     Z17   Z17024\n",
       "1  A010002   A01     Z17   Z17018\n",
       "2  A010003   A01     Z17   Z17011\n",
       "3  A010004   A01     Z16   Z16007\n",
       "4  A010005   A01     Z17   Z17005"
      ]
     },
     "execution_count": 3,
     "metadata": {},
     "output_type": "execute_result"
    }
   ],
   "source": [
    "# read data\n",
    "data5 = pd.read_csv(\"../Data/privateData/LPOINT_BIG_COMP_05_BR.csv\", low_memory=False)\n",
    "data5.head()"
   ]
  },
  {
   "cell_type": "code",
   "execution_count": 4,
   "metadata": {},
   "outputs": [
    {
     "name": "stdout",
     "output_type": "stream",
     "text": [
      "['A010001' 'A010002' 'A010003' ... 'E010042' 'E010043' 'E010044']\n",
      "8808\n",
      "['Z17024' 'Z17018' 'Z17011' 'Z16007' 'Z17005' 'Z13003' 'Z17001' 'Z17020'\n",
      " 'Z10003' 'Z15003' 'Z12015' 'Z03001' 'Z16006' 'Z11017' 'Z13005' 'Z17009'\n",
      " 'Z14005' 'Z14002' 'Z06013' 'Z17003' 'Z16016' 'Z17006' 'Z11004' 'Z13001'\n",
      " 'Z16015' 'Z10013' 'Z10008' 'Z10025' 'Z14004' 'Z10043' 'Z17004' 'Z10028'\n",
      " 'Z09014' 'Z17021' 'Z04003' 'Z08008' 'Z10042' 'Z10020' 'Z16003' 'Z11015'\n",
      " 'Z10021' 'Z17008' 'Z11012' 'Z05009' 'Z10002' 'Z06002' 'Z10037' 'Z02001'\n",
      " 'Z10047' 'Z17022' 'Z10009' 'Z10038' 'Z10040' 'Z05013' 'Z17016' 'Z17015'\n",
      " 'Z10004' 'Z04007' 'Z04009' 'Z10035' 'Z10022' 'Z10026' 'Z10027' 'Z04011'\n",
      " 'Z10041' 'Z04008' 'Z10012' 'Z10044' 'Z10011' 'Z10024' 'Z04002' 'Z10017'\n",
      " 'Z10031' 'Z10010' 'Z04006' 'Z15004' 'Z09015' 'Z08009' 'Z08015' 'Z09007'\n",
      " 'Z08011' 'Z08006' 'Z08018' 'Z09011' 'Z16010' 'Z16008' 'Z11020' 'Z11010'\n",
      " 'Z11019' 'Z16009' 'Z12019' 'Z03003' 'Z12014' 'Z11016' 'Z11001' 'Z12021'\n",
      " 'Z06009' 'Z05008' 'Z06014' 'Z06012' 'Z06004' 'Z05006' 'Z01018' 'Z01005'\n",
      " 'Z07002' 'Z10007' 'Z10029' 'Z10006' 'Z17010' 'Z10005' 'Z09013' 'Z10039'\n",
      " 'Z16013' 'Z15005' 'Z16004' 'Z13004' 'Z05015' 'Z13002' 'Z14008' 'Z15002'\n",
      " 'Z14007' 'Z12017' 'Z12005' 'Z08014' 'Z17013' 'Z17019' 'Z17017' 'Z17014'\n",
      " 'Z10023' 'Z16001' 'Z10030' 'Z04004' 'Z12001' 'Z17025' 'Z11024' 'Z11023'\n",
      " 'Z01017' 'Z08007' 'Z01007' 'Z10045' 'Z10046' 'Z12013' 'Z10019' 'Z10034'\n",
      " 'Z01014' 'Z01004' 'Z09009' 'Z11008' 'Z17007' 'Z17002' 'Z14003' 'Z17023'\n",
      " 'Z10018' 'Z05011' 'Z16014' 'Z16012' 'Z01006' 'Z16002' 'Z12016' 'Z17012'\n",
      " 'Z10001' 'Z10033' 'Z01009' 'Z01001' 'Z01016' 'Z01011' 'Z04005' 'Z01010'\n",
      " 'Z04001' 'Z04010' 'Z01003' 'Z01012' 'Z01013' 'Z01015' 'Z01002' 'Z01008'\n",
      " 'Z09002' 'Z09006' 'Z09008' 'Z09001' 'Z09012' 'Z15001' 'Z08003' 'Z08002'\n",
      " 'Z08004' 'Z08017' 'Z08001' 'Z08012' 'Z08010' 'Z08013' 'Z08005' 'Z09010'\n",
      " 'Z12003' 'Z12002' 'Z12007' 'Z12022' 'Z12024' 'Z09005' 'Z09003' 'Z12006'\n",
      " 'Z12018' 'Z14006' 'Z10016' 'Z10015' 'Z10014' 'Z14001' 'Z03005' 'Z03004'\n",
      " 'Z10032' 'Z16005' 'Z16011' 'Z11013' 'Z11007' 'Z11018' 'Z05014' 'Z05017'\n",
      " 'Z05003' 'Z05022' 'Z11022' 'Z11009' 'Z11021' 'Z11005' 'Z05020' 'Z05001'\n",
      " 'Z11003' 'Z05018' 'Z05021' 'Z05016' 'Z05019' 'Z05005' 'Z06003' 'Z05004'\n",
      " 'Z05010' 'Z05002' 'Z06008' 'Z06005' 'Z06011' 'Z06007' 'Z06006' 'Z06001'\n",
      " 'Z06010' 'Z06015' 'Z05007' 'Z05012' 'Z07001' 'Z11011' 'Z11014' 'Z11002'\n",
      " 'Z03002' 'Z12011' 'Z12012' 'Z12004' 'Z12009' 'Z12010' 'Z12023' 'Z09004'\n",
      " 'Z08016']\n",
      "257\n"
     ]
    }
   ],
   "source": [
    "# check data\n",
    "print(data5['br_c'].unique())\n",
    "print(len(data5['br_c'].unique()))\n",
    "print(data5['zon_mcls'].unique())\n",
    "print(len(data5['zon_mcls'].unique()))\n",
    "    "
   ]
  },
  {
   "cell_type": "code",
   "execution_count": 5,
   "metadata": {},
   "outputs": [
    {
     "data": {
      "image/png": "[encoded data removed]",
      "text/plain": [
       "<Figure size 432x288 with 1 Axes>"
      ]
     },
     "metadata": {
      "needs_background": "light"
     },
     "output_type": "display_data"
    }
   ],
   "source": [
    "# 제휴사 비교\n",
    "sns.countplot(data=data5, x='cop_c').set_title(\"제휴사 별 점포 수\")\n",
    "plt.show()"
   ]
  },
  {
   "cell_type": "markdown",
   "metadata": {},
   "source": [
    "* A: 유통, B: 숙박, C: 엔터테인먼트, D: F&B, E: 렌탈업종\n",
    "* 제휴사 중 유통업 A04 유형의 점포가 가장 많다\n",
    "* 유통업 다음으로는 F&B 점포가 많다"
   ]
  },
  {
   "cell_type": "code",
   "execution_count": 6,
   "metadata": {},
   "outputs": [
    {
     "data": {
      "image/png": "[encoded data removed]",
      "text/plain": [
       "<Figure size 432x288 with 1 Axes>"
      ]
     },
     "metadata": {
      "needs_background": "light"
     },
     "output_type": "display_data"
    }
   ],
   "source": [
    "# 지역 분포 비교\n",
    "sns.countplot(data=data5, x='zon_hlv', order=zone_order).set_title(\"지역 별 점포 수\")\n",
    "plt.show()"
   ]
  },
  {
   "cell_type": "markdown",
   "metadata": {},
   "source": [
    "*   Z10, Z17 지역에 점포가 많이 위치한다"
   ]
  },
  {
   "cell_type": "code",
   "execution_count": 7,
   "metadata": {},
   "outputs": [
    {
     "data": {
      "image/png": "[encoded data removed]",
      "text/plain": [
       "<Figure size 432x288 with 1 Axes>"
      ]
     },
     "metadata": {
      "needs_background": "light"
     },
     "output_type": "display_data"
    }
   ],
   "source": [
    "# Z10, Z17 지역의 제휴사 비교\n",
    "data5.zon_hlv = data5.zon_hlv.apply(lambda x: x if x in ['Z10', 'Z17'] else None)\n",
    "sns.countplot(data=data5, x='zon_hlv', hue='cop_c', order=['Z10', 'Z17'])\n",
    "plt.show()"
   ]
  },
  {
   "cell_type": "markdown",
   "metadata": {},
   "source": [
    "* Z10, Z17 지역과 제휴사를 묶어서 나오는 유의미한 데이터는 없다"
   ]
  },
  {
   "cell_type": "markdown",
   "metadata": {},
   "source": [
    "---\n",
    "# Data5(점포 정보) 분석 결과\n",
    "* 제휴사에는 유통업이 가장 많다\n",
    "* 점포는 Z10, Z17 지역에 가장 많이 위치한다"
   ]
  }
 ],
 "metadata": {
  "kernelspec": {
   "display_name": "Python 3.8.13 ('dsl')",
   "language": "python",
   "name": "python3"
  },
  "language_info": {
   "codemirror_mode": {
    "name": "ipython",
    "version": 3
   },
   "file_extension": ".py",
   "mimetype": "text/x-python",
   "name": "python",
   "nbconvert_exporter": "python",
   "pygments_lexer": "ipython3",
   "version": "3.8.13"
  },
  "orig_nbformat": 4,
  "vscode": {
   "interpreter": {
    "hash": "c63b82bda4a59cf6ca173a5561c11d395741e2dc788a905fb35d4e95d98277a6"
   }
  }
 },
 "nbformat": 4,
 "nbformat_minor": 2
}
