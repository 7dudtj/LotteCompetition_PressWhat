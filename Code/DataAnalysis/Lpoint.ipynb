{
  "cells": [
    {
      "cell_type": "code",
      "execution_count": null,
      "metadata": {
        "id": "UVjIWXHKXA9Q"
      },
      "outputs": [],
      "source": [
        "  !sudo apt-get install -y fonts-nanum\n",
        "  !sudo fc-cache -fv\n",
        "  !rm ~/.cache/matplotlib -rf"
      ]
    },
    {
      "cell_type": "code",
      "execution_count": null,
      "metadata": {
        "id": "l621B2EUPFbO"
      },
      "outputs": [],
      "source": [
        "from google.colab import drive\n",
        "drive.mount('/content/drive')"
      ]
    },
    {
      "cell_type": "code",
      "execution_count": 46,
      "metadata": {
        "id": "mnqV36YDMbKe"
      },
      "outputs": [],
      "source": [
        "import pandas as pd\n",
        "import numpy as np\n",
        "import matplotlib.pyplot as plt\n",
        "import seaborn as sns\n",
        "\n",
        "plt.rc('font', family='NanumBarunGothic')"
      ]
    },
    {
      "cell_type": "markdown",
      "metadata": {
        "id": "3VwWyuycUHvA"
      },
      "source": [
        "# 데이터 처리    \n",
        "\n",
        "buy_data1 => 상품구매정보   \n",
        "buy_data2 => 제휴사 이용정보  \n",
        "buy_data3 => 엘페이 이용정보   "
      ]
    },
    {
      "cell_type": "code",
      "execution_count": 47,
      "metadata": {
        "colab": {
          "base_uri": "https://localhost:8080/",
          "height": 0
        },
        "id": "X2mPxYBSMder",
        "outputId": "2e807806-ebbc-4c54-d7a9-2f066ce2b8ba"
      },
      "outputs": [
        {
          "name": "stderr",
          "output_type": "stream",
          "text": [
            "/usr/local/lib/python3.7/dist-packages/IPython/core/interactiveshell.py:2882: DtypeWarning: Columns (4) have mixed types.Specify dtype option on import or set low_memory=False.\n",
            "  exec(code_obj, self.user_global_ns, self.user_ns)\n"
          ]
        }
      ],
      "source": [
        "# read data\n",
        "data1 = pd.read_csv(\"./drive/MyDrive/LPOINT_BIG_COMP_01_DEMO.csv\")   # cust 고객번호 ma_fem_dv 성별 ages 나이 zon_hlv 거주지코드\n",
        "data2 = pd.read_csv(\"./drive/MyDrive/LPOINT_BIG_COMP_02_PDDE.csv\")   # cust 고객번호 rct_no 영수증번호 chnl_dv 채널구분 cop_c 제휴사코드 br_c 점포코드 pd_c 상품코드 de_dt 거래일 de_hr 거래시간 buy_am 구매가격 buy_ct 구매개수\n",
        "data3 = pd.read_csv(\"./drive/MyDrive/LPOINT_BIG_COMP_03_COP_U.csv\")  # cust 고객번호 rct_no 영수중번호 cop_c 제휴사코드 br_c 점포코드 chnl_dv 채널구분 de_dt 거래일 vst_dt 방문일 de_hr 거래시간 buy_am 결제금액\n",
        "data4 = pd.read_csv(\"./drive/MyDrive/LPOINT_BIG_COMP_04_PD_CLAC.csv\")# pd_c 상품번호 pd_nm 상품명 clac_hlv_nm 카테고리 clac_mcls_nm 세부카테고리 \n",
        "data5 = pd.read_csv(\"./drive/MyDrive/LPOINT_BIG_COMP_05_BR.csv\")     # br_c 점포번호 cop_c 제휴사 코드 zon_hlv 카테고리 zon_mcls 세부카테고리\n",
        "data6 = pd.read_csv(\"./drive/MyDrive/LPOINT_BIG_COMP_06_LPAY.csv\")   # rct_no 영수증 번호 cop_c 제휴사코드 chnl_dv 채널구분 de_dt 구매일 de_hr 구매시간 buy_am 결제금액"
      ]
    },
    {
      "cell_type": "code",
      "execution_count": null,
      "metadata": {
        "id": "al0Zc8dAN0aO"
      },
      "outputs": [],
      "source": [
        "# 상품구매정보_통합\n",
        "buy_data1 = pd.merge(data2, data1, on='cust', how='left')\n",
        "buy_data1 = pd.merge(buy_data1, data4, on='pd_c', how='left')\n",
        "buy_data1 = pd.merge(buy_data1, data5, on='br_c', how='left')"
      ]
    },
    {
      "cell_type": "code",
      "execution_count": null,
      "metadata": {
        "id": "x4OttKi2QNa-"
      },
      "outputs": [],
      "source": [
        "# 제휴사이용정보_통합\n",
        "buy_data2 = pd.merge(data3, data1, on='cust', how='left')\n",
        "buy_data2 = pd.merge(buy_data2, data5, on='br_c', how='left')"
      ]
    },
    {
      "cell_type": "code",
      "execution_count": null,
      "metadata": {
        "id": "Amx54ZTaQNe6"
      },
      "outputs": [],
      "source": [
        "# 엘페이이용_통합\n",
        "buy_data3 = pd.merge(data6, data1, on='cust', how='left')"
      ]
    },
    {
      "cell_type": "code",
      "execution_count": null,
      "metadata": {
        "colab": {
          "base_uri": "https://localhost:8080/"
        },
        "id": "-lJ89dbtRxSd",
        "outputId": "f12e875d-74c5-486a-c030-b92328f5fb60"
      },
      "outputs": [
        {
          "data": {
            "text/plain": [
              "cust                 0\n",
              "rct_no               0\n",
              "chnl_dv              0\n",
              "cop_c_x              0\n",
              "br_c            428501\n",
              "pd_c                 0\n",
              "de_dt                0\n",
              "de_hr                0\n",
              "buy_am               0\n",
              "buy_ct               0\n",
              "ma_fem_dv            0\n",
              "ages                 0\n",
              "zon_hlv_x            0\n",
              "pd_nm                0\n",
              "clac_hlv_nm          0\n",
              "clac_mcls_nm         0\n",
              "cop_c_y         428501\n",
              "zon_hlv_y       428501\n",
              "zon_mcls        428501\n",
              "dtype: int64"
            ]
          },
          "execution_count": 6,
          "metadata": {},
          "output_type": "execute_result"
        }
      ],
      "source": [
        "# 결측치 확인\n",
        "buy_data1.isnull().sum()"
      ]
    },
    {
      "cell_type": "code",
      "execution_count": null,
      "metadata": {
        "colab": {
          "base_uri": "https://localhost:8080/",
          "height": 250
        },
        "id": "WzdWe7iJTtkZ",
        "outputId": "e7cc70cf-b530-49a5-a2da-e891bad0f8ad"
      },
      "outputs": [
        {
          "data": {
            "text/html": [
              "\n",
              "  <div id=\"df-0e66a47c-1c60-46a0-8b8a-19cccbce9962\">\n",
              "    <div class=\"colab-df-container\">\n",
              "      <div>\n",
              "<style scoped>\n",
              "    .dataframe tbody tr th:only-of-type {\n",
              "        vertical-align: middle;\n",
              "    }\n",
              "\n",
              "    .dataframe tbody tr th {\n",
              "        vertical-align: top;\n",
              "    }\n",
              "\n",
              "    .dataframe thead th {\n",
              "        text-align: right;\n",
              "    }\n",
              "</style>\n",
              "<table border=\"1\" class=\"dataframe\">\n",
              "  <thead>\n",
              "    <tr style=\"text-align: right;\">\n",
              "      <th></th>\n",
              "      <th>cust</th>\n",
              "      <th>rct_no</th>\n",
              "      <th>chnl_dv</th>\n",
              "      <th>cop_c_x</th>\n",
              "      <th>br_c</th>\n",
              "      <th>pd_c</th>\n",
              "      <th>de_dt</th>\n",
              "      <th>de_hr</th>\n",
              "      <th>buy_am</th>\n",
              "      <th>buy_ct</th>\n",
              "      <th>ma_fem_dv</th>\n",
              "      <th>ages</th>\n",
              "      <th>zon_hlv_x</th>\n",
              "      <th>pd_nm</th>\n",
              "      <th>clac_hlv_nm</th>\n",
              "      <th>clac_mcls_nm</th>\n",
              "      <th>cop_c_y</th>\n",
              "      <th>zon_hlv_y</th>\n",
              "      <th>zon_mcls</th>\n",
              "    </tr>\n",
              "  </thead>\n",
              "  <tbody>\n",
              "    <tr>\n",
              "      <th>424</th>\n",
              "      <td>M533330698</td>\n",
              "      <td>E01000012036</td>\n",
              "      <td>2</td>\n",
              "      <td>A01</td>\n",
              "      <td>NaN</td>\n",
              "      <td>PD0954</td>\n",
              "      <td>20210101</td>\n",
              "      <td>1</td>\n",
              "      <td>39000.0</td>\n",
              "      <td>1</td>\n",
              "      <td>여성</td>\n",
              "      <td>30대</td>\n",
              "      <td>Z03</td>\n",
              "      <td>여성스웨터/풀오버</td>\n",
              "      <td>여성의류</td>\n",
              "      <td>여성의류상의</td>\n",
              "      <td>NaN</td>\n",
              "      <td>NaN</td>\n",
              "      <td>NaN</td>\n",
              "    </tr>\n",
              "    <tr>\n",
              "      <th>425</th>\n",
              "      <td>M661395471</td>\n",
              "      <td>E01000013847</td>\n",
              "      <td>2</td>\n",
              "      <td>A01</td>\n",
              "      <td>NaN</td>\n",
              "      <td>PD1706</td>\n",
              "      <td>20210101</td>\n",
              "      <td>10</td>\n",
              "      <td>168000.0</td>\n",
              "      <td>1</td>\n",
              "      <td>남성</td>\n",
              "      <td>40대</td>\n",
              "      <td>Z04</td>\n",
              "      <td>남성백팩</td>\n",
              "      <td>패션잡화</td>\n",
              "      <td>남성가방</td>\n",
              "      <td>NaN</td>\n",
              "      <td>NaN</td>\n",
              "      <td>NaN</td>\n",
              "    </tr>\n",
              "    <tr>\n",
              "      <th>426</th>\n",
              "      <td>M594992791</td>\n",
              "      <td>E01000014987</td>\n",
              "      <td>2</td>\n",
              "      <td>A01</td>\n",
              "      <td>NaN</td>\n",
              "      <td>PD1810</td>\n",
              "      <td>20210101</td>\n",
              "      <td>11</td>\n",
              "      <td>30000.0</td>\n",
              "      <td>1</td>\n",
              "      <td>여성</td>\n",
              "      <td>40대</td>\n",
              "      <td>Z06</td>\n",
              "      <td>남성장갑</td>\n",
              "      <td>패션잡화</td>\n",
              "      <td>장갑</td>\n",
              "      <td>NaN</td>\n",
              "      <td>NaN</td>\n",
              "      <td>NaN</td>\n",
              "    </tr>\n",
              "    <tr>\n",
              "      <th>427</th>\n",
              "      <td>M263406446</td>\n",
              "      <td>E01000015117</td>\n",
              "      <td>2</td>\n",
              "      <td>A01</td>\n",
              "      <td>NaN</td>\n",
              "      <td>PD0302</td>\n",
              "      <td>20210101</td>\n",
              "      <td>12</td>\n",
              "      <td>335000.0</td>\n",
              "      <td>1</td>\n",
              "      <td>여성</td>\n",
              "      <td>40대</td>\n",
              "      <td>Z10</td>\n",
              "      <td>남성패딩</td>\n",
              "      <td>남성의류</td>\n",
              "      <td>남성의류아우터</td>\n",
              "      <td>NaN</td>\n",
              "      <td>NaN</td>\n",
              "      <td>NaN</td>\n",
              "    </tr>\n",
              "    <tr>\n",
              "      <th>428</th>\n",
              "      <td>M182645944</td>\n",
              "      <td>E01000016766</td>\n",
              "      <td>2</td>\n",
              "      <td>A01</td>\n",
              "      <td>NaN</td>\n",
              "      <td>PD1782</td>\n",
              "      <td>20210101</td>\n",
              "      <td>13</td>\n",
              "      <td>107100.0</td>\n",
              "      <td>1</td>\n",
              "      <td>남성</td>\n",
              "      <td>20대</td>\n",
              "      <td>Z17</td>\n",
              "      <td>여성스니커즈</td>\n",
              "      <td>패션잡화</td>\n",
              "      <td>여성화</td>\n",
              "      <td>NaN</td>\n",
              "      <td>NaN</td>\n",
              "      <td>NaN</td>\n",
              "    </tr>\n",
              "  </tbody>\n",
              "</table>\n",
              "</div>\n",
              "      <button class=\"colab-df-convert\" onclick=\"convertToInteractive('df-0e66a47c-1c60-46a0-8b8a-19cccbce9962')\"\n",
              "              title=\"Convert this dataframe to an interactive table.\"\n",
              "              style=\"display:none;\">\n",
              "        \n",
              "  <svg xmlns=\"http://www.w3.org/2000/svg\" height=\"24px\"viewBox=\"0 0 24 24\"\n",
              "       width=\"24px\">\n",
              "    <path d=\"M0 0h24v24H0V0z\" fill=\"none\"/>\n",
              "    <path d=\"M18.56 5.44l.94 2.06.94-2.06 2.06-.94-2.06-.94-.94-2.06-.94 2.06-2.06.94zm-11 1L8.5 8.5l.94-2.06 2.06-.94-2.06-.94L8.5 2.5l-.94 2.06-2.06.94zm10 10l.94 2.06.94-2.06 2.06-.94-2.06-.94-.94-2.06-.94 2.06-2.06.94z\"/><path d=\"M17.41 7.96l-1.37-1.37c-.4-.4-.92-.59-1.43-.59-.52 0-1.04.2-1.43.59L10.3 9.45l-7.72 7.72c-.78.78-.78 2.05 0 2.83L4 21.41c.39.39.9.59 1.41.59.51 0 1.02-.2 1.41-.59l7.78-7.78 2.81-2.81c.8-.78.8-2.07 0-2.86zM5.41 20L4 18.59l7.72-7.72 1.47 1.35L5.41 20z\"/>\n",
              "  </svg>\n",
              "      </button>\n",
              "      \n",
              "  <style>\n",
              "    .colab-df-container {\n",
              "      display:flex;\n",
              "      flex-wrap:wrap;\n",
              "      gap: 12px;\n",
              "    }\n",
              "\n",
              "    .colab-df-convert {\n",
              "      background-color: #E8F0FE;\n",
              "      border: none;\n",
              "      border-radius: 50%;\n",
              "      cursor: pointer;\n",
              "      display: none;\n",
              "      fill: #1967D2;\n",
              "      height: 32px;\n",
              "      padding: 0 0 0 0;\n",
              "      width: 32px;\n",
              "    }\n",
              "\n",
              "    .colab-df-convert:hover {\n",
              "      background-color: #E2EBFA;\n",
              "      box-shadow: 0px 1px 2px rgba(60, 64, 67, 0.3), 0px 1px 3px 1px rgba(60, 64, 67, 0.15);\n",
              "      fill: #174EA6;\n",
              "    }\n",
              "\n",
              "    [theme=dark] .colab-df-convert {\n",
              "      background-color: #3B4455;\n",
              "      fill: #D2E3FC;\n",
              "    }\n",
              "\n",
              "    [theme=dark] .colab-df-convert:hover {\n",
              "      background-color: #434B5C;\n",
              "      box-shadow: 0px 1px 3px 1px rgba(0, 0, 0, 0.15);\n",
              "      filter: drop-shadow(0px 1px 2px rgba(0, 0, 0, 0.3));\n",
              "      fill: #FFFFFF;\n",
              "    }\n",
              "  </style>\n",
              "\n",
              "      <script>\n",
              "        const buttonEl =\n",
              "          document.querySelector('#df-0e66a47c-1c60-46a0-8b8a-19cccbce9962 button.colab-df-convert');\n",
              "        buttonEl.style.display =\n",
              "          google.colab.kernel.accessAllowed ? 'block' : 'none';\n",
              "\n",
              "        async function convertToInteractive(key) {\n",
              "          const element = document.querySelector('#df-0e66a47c-1c60-46a0-8b8a-19cccbce9962');\n",
              "          const dataTable =\n",
              "            await google.colab.kernel.invokeFunction('convertToInteractive',\n",
              "                                                     [key], {});\n",
              "          if (!dataTable) return;\n",
              "\n",
              "          const docLinkHtml = 'Like what you see? Visit the ' +\n",
              "            '<a target=\"_blank\" href=https://colab.research.google.com/notebooks/data_table.ipynb>data table notebook</a>'\n",
              "            + ' to learn more about interactive tables.';\n",
              "          element.innerHTML = '';\n",
              "          dataTable['output_type'] = 'display_data';\n",
              "          await google.colab.output.renderOutput(dataTable, element);\n",
              "          const docLink = document.createElement('div');\n",
              "          docLink.innerHTML = docLinkHtml;\n",
              "          element.appendChild(docLink);\n",
              "        }\n",
              "      </script>\n",
              "    </div>\n",
              "  </div>\n",
              "  "
            ],
            "text/plain": [
              "           cust        rct_no  chnl_dv cop_c_x br_c    pd_c     de_dt  de_hr  \\\n",
              "424  M533330698  E01000012036        2     A01  NaN  PD0954  20210101      1   \n",
              "425  M661395471  E01000013847        2     A01  NaN  PD1706  20210101     10   \n",
              "426  M594992791  E01000014987        2     A01  NaN  PD1810  20210101     11   \n",
              "427  M263406446  E01000015117        2     A01  NaN  PD0302  20210101     12   \n",
              "428  M182645944  E01000016766        2     A01  NaN  PD1782  20210101     13   \n",
              "\n",
              "       buy_am  buy_ct ma_fem_dv ages zon_hlv_x      pd_nm clac_hlv_nm  \\\n",
              "424   39000.0       1        여성  30대       Z03  여성스웨터/풀오버        여성의류   \n",
              "425  168000.0       1        남성  40대       Z04       남성백팩        패션잡화   \n",
              "426   30000.0       1        여성  40대       Z06       남성장갑        패션잡화   \n",
              "427  335000.0       1        여성  40대       Z10       남성패딩        남성의류   \n",
              "428  107100.0       1        남성  20대       Z17     여성스니커즈        패션잡화   \n",
              "\n",
              "    clac_mcls_nm cop_c_y zon_hlv_y zon_mcls  \n",
              "424       여성의류상의     NaN       NaN      NaN  \n",
              "425         남성가방     NaN       NaN      NaN  \n",
              "426           장갑     NaN       NaN      NaN  \n",
              "427      남성의류아우터     NaN       NaN      NaN  \n",
              "428          여성화     NaN       NaN      NaN  "
            ]
          },
          "execution_count": 7,
          "metadata": {},
          "output_type": "execute_result"
        }
      ],
      "source": [
        "# 결측치 확인결과, 구매채널이 온라인일 경우 점포정보가 없는것이므로 결측치 처리 불필요 \n",
        "buy_data1[buy_data1['br_c'].isnull()].head()"
      ]
    },
    {
      "cell_type": "code",
      "execution_count": null,
      "metadata": {
        "colab": {
          "base_uri": "https://localhost:8080/"
        },
        "id": "5CO_8slsRfL5",
        "outputId": "bdb4ec27-4a12-401a-d6a0-4c0958b01f7a"
      },
      "outputs": [
        {
          "data": {
            "text/plain": [
              "cust          0\n",
              "rct_no        0\n",
              "cop_c_x       0\n",
              "br_c         55\n",
              "chnl_dv       0\n",
              "de_dt         0\n",
              "vst_dt        0\n",
              "de_hr         0\n",
              "buy_am        0\n",
              "ma_fem_dv     0\n",
              "ages          0\n",
              "zon_hlv_x     0\n",
              "cop_c_y      55\n",
              "zon_hlv_y    55\n",
              "zon_mcls     55\n",
              "dtype: int64"
            ]
          },
          "execution_count": 8,
          "metadata": {},
          "output_type": "execute_result"
        }
      ],
      "source": [
        "#결측치 확인\n",
        "buy_data2.isnull().sum()"
      ]
    },
    {
      "cell_type": "code",
      "execution_count": null,
      "metadata": {
        "colab": {
          "base_uri": "https://localhost:8080/",
          "height": 250
        },
        "id": "fa0veLZVTxtj",
        "outputId": "6c3357d3-1bb2-40c0-874a-8ea8e00eaf21"
      },
      "outputs": [
        {
          "data": {
            "text/html": [
              "\n",
              "  <div id=\"df-a4672ae9-f414-4459-9ffa-c5827523ff44\">\n",
              "    <div class=\"colab-df-container\">\n",
              "      <div>\n",
              "<style scoped>\n",
              "    .dataframe tbody tr th:only-of-type {\n",
              "        vertical-align: middle;\n",
              "    }\n",
              "\n",
              "    .dataframe tbody tr th {\n",
              "        vertical-align: top;\n",
              "    }\n",
              "\n",
              "    .dataframe thead th {\n",
              "        text-align: right;\n",
              "    }\n",
              "</style>\n",
              "<table border=\"1\" class=\"dataframe\">\n",
              "  <thead>\n",
              "    <tr style=\"text-align: right;\">\n",
              "      <th></th>\n",
              "      <th>cust</th>\n",
              "      <th>rct_no</th>\n",
              "      <th>chnl_dv</th>\n",
              "      <th>cop_c_x</th>\n",
              "      <th>br_c</th>\n",
              "      <th>pd_c</th>\n",
              "      <th>de_dt</th>\n",
              "      <th>de_hr</th>\n",
              "      <th>buy_am</th>\n",
              "      <th>buy_ct</th>\n",
              "      <th>ma_fem_dv</th>\n",
              "      <th>ages</th>\n",
              "      <th>zon_hlv_x</th>\n",
              "      <th>pd_nm</th>\n",
              "      <th>clac_hlv_nm</th>\n",
              "      <th>clac_mcls_nm</th>\n",
              "      <th>cop_c_y</th>\n",
              "      <th>zon_hlv_y</th>\n",
              "      <th>zon_mcls</th>\n",
              "    </tr>\n",
              "  </thead>\n",
              "  <tbody>\n",
              "    <tr>\n",
              "      <th>424</th>\n",
              "      <td>M533330698</td>\n",
              "      <td>E01000012036</td>\n",
              "      <td>2</td>\n",
              "      <td>A01</td>\n",
              "      <td>NaN</td>\n",
              "      <td>PD0954</td>\n",
              "      <td>20210101</td>\n",
              "      <td>1</td>\n",
              "      <td>39000.0</td>\n",
              "      <td>1</td>\n",
              "      <td>여성</td>\n",
              "      <td>30대</td>\n",
              "      <td>Z03</td>\n",
              "      <td>여성스웨터/풀오버</td>\n",
              "      <td>여성의류</td>\n",
              "      <td>여성의류상의</td>\n",
              "      <td>NaN</td>\n",
              "      <td>NaN</td>\n",
              "      <td>NaN</td>\n",
              "    </tr>\n",
              "    <tr>\n",
              "      <th>425</th>\n",
              "      <td>M661395471</td>\n",
              "      <td>E01000013847</td>\n",
              "      <td>2</td>\n",
              "      <td>A01</td>\n",
              "      <td>NaN</td>\n",
              "      <td>PD1706</td>\n",
              "      <td>20210101</td>\n",
              "      <td>10</td>\n",
              "      <td>168000.0</td>\n",
              "      <td>1</td>\n",
              "      <td>남성</td>\n",
              "      <td>40대</td>\n",
              "      <td>Z04</td>\n",
              "      <td>남성백팩</td>\n",
              "      <td>패션잡화</td>\n",
              "      <td>남성가방</td>\n",
              "      <td>NaN</td>\n",
              "      <td>NaN</td>\n",
              "      <td>NaN</td>\n",
              "    </tr>\n",
              "    <tr>\n",
              "      <th>426</th>\n",
              "      <td>M594992791</td>\n",
              "      <td>E01000014987</td>\n",
              "      <td>2</td>\n",
              "      <td>A01</td>\n",
              "      <td>NaN</td>\n",
              "      <td>PD1810</td>\n",
              "      <td>20210101</td>\n",
              "      <td>11</td>\n",
              "      <td>30000.0</td>\n",
              "      <td>1</td>\n",
              "      <td>여성</td>\n",
              "      <td>40대</td>\n",
              "      <td>Z06</td>\n",
              "      <td>남성장갑</td>\n",
              "      <td>패션잡화</td>\n",
              "      <td>장갑</td>\n",
              "      <td>NaN</td>\n",
              "      <td>NaN</td>\n",
              "      <td>NaN</td>\n",
              "    </tr>\n",
              "    <tr>\n",
              "      <th>427</th>\n",
              "      <td>M263406446</td>\n",
              "      <td>E01000015117</td>\n",
              "      <td>2</td>\n",
              "      <td>A01</td>\n",
              "      <td>NaN</td>\n",
              "      <td>PD0302</td>\n",
              "      <td>20210101</td>\n",
              "      <td>12</td>\n",
              "      <td>335000.0</td>\n",
              "      <td>1</td>\n",
              "      <td>여성</td>\n",
              "      <td>40대</td>\n",
              "      <td>Z10</td>\n",
              "      <td>남성패딩</td>\n",
              "      <td>남성의류</td>\n",
              "      <td>남성의류아우터</td>\n",
              "      <td>NaN</td>\n",
              "      <td>NaN</td>\n",
              "      <td>NaN</td>\n",
              "    </tr>\n",
              "    <tr>\n",
              "      <th>428</th>\n",
              "      <td>M182645944</td>\n",
              "      <td>E01000016766</td>\n",
              "      <td>2</td>\n",
              "      <td>A01</td>\n",
              "      <td>NaN</td>\n",
              "      <td>PD1782</td>\n",
              "      <td>20210101</td>\n",
              "      <td>13</td>\n",
              "      <td>107100.0</td>\n",
              "      <td>1</td>\n",
              "      <td>남성</td>\n",
              "      <td>20대</td>\n",
              "      <td>Z17</td>\n",
              "      <td>여성스니커즈</td>\n",
              "      <td>패션잡화</td>\n",
              "      <td>여성화</td>\n",
              "      <td>NaN</td>\n",
              "      <td>NaN</td>\n",
              "      <td>NaN</td>\n",
              "    </tr>\n",
              "  </tbody>\n",
              "</table>\n",
              "</div>\n",
              "      <button class=\"colab-df-convert\" onclick=\"convertToInteractive('df-a4672ae9-f414-4459-9ffa-c5827523ff44')\"\n",
              "              title=\"Convert this dataframe to an interactive table.\"\n",
              "              style=\"display:none;\">\n",
              "        \n",
              "  <svg xmlns=\"http://www.w3.org/2000/svg\" height=\"24px\"viewBox=\"0 0 24 24\"\n",
              "       width=\"24px\">\n",
              "    <path d=\"M0 0h24v24H0V0z\" fill=\"none\"/>\n",
              "    <path d=\"M18.56 5.44l.94 2.06.94-2.06 2.06-.94-2.06-.94-.94-2.06-.94 2.06-2.06.94zm-11 1L8.5 8.5l.94-2.06 2.06-.94-2.06-.94L8.5 2.5l-.94 2.06-2.06.94zm10 10l.94 2.06.94-2.06 2.06-.94-2.06-.94-.94-2.06-.94 2.06-2.06.94z\"/><path d=\"M17.41 7.96l-1.37-1.37c-.4-.4-.92-.59-1.43-.59-.52 0-1.04.2-1.43.59L10.3 9.45l-7.72 7.72c-.78.78-.78 2.05 0 2.83L4 21.41c.39.39.9.59 1.41.59.51 0 1.02-.2 1.41-.59l7.78-7.78 2.81-2.81c.8-.78.8-2.07 0-2.86zM5.41 20L4 18.59l7.72-7.72 1.47 1.35L5.41 20z\"/>\n",
              "  </svg>\n",
              "      </button>\n",
              "      \n",
              "  <style>\n",
              "    .colab-df-container {\n",
              "      display:flex;\n",
              "      flex-wrap:wrap;\n",
              "      gap: 12px;\n",
              "    }\n",
              "\n",
              "    .colab-df-convert {\n",
              "      background-color: #E8F0FE;\n",
              "      border: none;\n",
              "      border-radius: 50%;\n",
              "      cursor: pointer;\n",
              "      display: none;\n",
              "      fill: #1967D2;\n",
              "      height: 32px;\n",
              "      padding: 0 0 0 0;\n",
              "      width: 32px;\n",
              "    }\n",
              "\n",
              "    .colab-df-convert:hover {\n",
              "      background-color: #E2EBFA;\n",
              "      box-shadow: 0px 1px 2px rgba(60, 64, 67, 0.3), 0px 1px 3px 1px rgba(60, 64, 67, 0.15);\n",
              "      fill: #174EA6;\n",
              "    }\n",
              "\n",
              "    [theme=dark] .colab-df-convert {\n",
              "      background-color: #3B4455;\n",
              "      fill: #D2E3FC;\n",
              "    }\n",
              "\n",
              "    [theme=dark] .colab-df-convert:hover {\n",
              "      background-color: #434B5C;\n",
              "      box-shadow: 0px 1px 3px 1px rgba(0, 0, 0, 0.15);\n",
              "      filter: drop-shadow(0px 1px 2px rgba(0, 0, 0, 0.3));\n",
              "      fill: #FFFFFF;\n",
              "    }\n",
              "  </style>\n",
              "\n",
              "      <script>\n",
              "        const buttonEl =\n",
              "          document.querySelector('#df-a4672ae9-f414-4459-9ffa-c5827523ff44 button.colab-df-convert');\n",
              "        buttonEl.style.display =\n",
              "          google.colab.kernel.accessAllowed ? 'block' : 'none';\n",
              "\n",
              "        async function convertToInteractive(key) {\n",
              "          const element = document.querySelector('#df-a4672ae9-f414-4459-9ffa-c5827523ff44');\n",
              "          const dataTable =\n",
              "            await google.colab.kernel.invokeFunction('convertToInteractive',\n",
              "                                                     [key], {});\n",
              "          if (!dataTable) return;\n",
              "\n",
              "          const docLinkHtml = 'Like what you see? Visit the ' +\n",
              "            '<a target=\"_blank\" href=https://colab.research.google.com/notebooks/data_table.ipynb>data table notebook</a>'\n",
              "            + ' to learn more about interactive tables.';\n",
              "          element.innerHTML = '';\n",
              "          dataTable['output_type'] = 'display_data';\n",
              "          await google.colab.output.renderOutput(dataTable, element);\n",
              "          const docLink = document.createElement('div');\n",
              "          docLink.innerHTML = docLinkHtml;\n",
              "          element.appendChild(docLink);\n",
              "        }\n",
              "      </script>\n",
              "    </div>\n",
              "  </div>\n",
              "  "
            ],
            "text/plain": [
              "           cust        rct_no  chnl_dv cop_c_x br_c    pd_c     de_dt  de_hr  \\\n",
              "424  M533330698  E01000012036        2     A01  NaN  PD0954  20210101      1   \n",
              "425  M661395471  E01000013847        2     A01  NaN  PD1706  20210101     10   \n",
              "426  M594992791  E01000014987        2     A01  NaN  PD1810  20210101     11   \n",
              "427  M263406446  E01000015117        2     A01  NaN  PD0302  20210101     12   \n",
              "428  M182645944  E01000016766        2     A01  NaN  PD1782  20210101     13   \n",
              "\n",
              "       buy_am  buy_ct ma_fem_dv ages zon_hlv_x      pd_nm clac_hlv_nm  \\\n",
              "424   39000.0       1        여성  30대       Z03  여성스웨터/풀오버        여성의류   \n",
              "425  168000.0       1        남성  40대       Z04       남성백팩        패션잡화   \n",
              "426   30000.0       1        여성  40대       Z06       남성장갑        패션잡화   \n",
              "427  335000.0       1        여성  40대       Z10       남성패딩        남성의류   \n",
              "428  107100.0       1        남성  20대       Z17     여성스니커즈        패션잡화   \n",
              "\n",
              "    clac_mcls_nm cop_c_y zon_hlv_y zon_mcls  \n",
              "424       여성의류상의     NaN       NaN      NaN  \n",
              "425         남성가방     NaN       NaN      NaN  \n",
              "426           장갑     NaN       NaN      NaN  \n",
              "427      남성의류아우터     NaN       NaN      NaN  \n",
              "428          여성화     NaN       NaN      NaN  "
            ]
          },
          "execution_count": 9,
          "metadata": {},
          "output_type": "execute_result"
        }
      ],
      "source": [
        "# 결측치 확인결과, 구매채널이 온라인일 경우 점포정보가 없는것이므로 결측치 처리 불필요 \n",
        "buy_data1[buy_data1['br_c'].isnull()].head()"
      ]
    },
    {
      "cell_type": "code",
      "execution_count": null,
      "metadata": {
        "colab": {
          "base_uri": "https://localhost:8080/"
        },
        "id": "UxwANDjBSK2E",
        "outputId": "632d9ed8-0471-4136-ae68-8447ab6fd909"
      },
      "outputs": [
        {
          "data": {
            "text/plain": [
              "cust         0\n",
              "rct_no       0\n",
              "cop_c        0\n",
              "chnl_dv      0\n",
              "de_dt        0\n",
              "de_hr        0\n",
              "buy_am       0\n",
              "ma_fem_dv    0\n",
              "ages         0\n",
              "zon_hlv      0\n",
              "dtype: int64"
            ]
          },
          "execution_count": 10,
          "metadata": {},
          "output_type": "execute_result"
        }
      ],
      "source": [
        "#결측치 확인 (결측치 없음)\n",
        "buy_data3.isnull().sum()"
      ]
    },
    {
      "cell_type": "markdown",
      "metadata": {
        "id": "Lschk4-LUM6J"
      },
      "source": [
        "# 데이터 분석 (상품구매정보)"
      ]
    },
    {
      "cell_type": "code",
      "execution_count": null,
      "metadata": {
        "colab": {
          "base_uri": "https://localhost:8080/",
          "height": 294
        },
        "id": "FI4RHbE1UPmY",
        "outputId": "eb1a49b8-aaae-455b-980b-74e3ef569e41"
      },
      "outputs": [
        {
          "data": {
            "image/png": "[encoded data removed]",
            "text/plain": [
              "<Figure size 432x288 with 1 Axes>"
            ]
          },
          "metadata": {
            "needs_background": "light"
          },
          "output_type": "display_data"
        }
      ],
      "source": [
        "# 연령분포\n",
        "plt.rc('font', family='NanumBarunGothic')\n",
        "sns.countplot(x=\"ages\", data = data1).set_title('가입자 나이분포')\n",
        "plt.show()"
      ]
    },
    {
      "cell_type": "code",
      "execution_count": null,
      "metadata": {
        "colab": {
          "base_uri": "https://localhost:8080/",
          "height": 294
        },
        "id": "pIvClS82VXeg",
        "outputId": "7d4556eb-e650-4c95-99de-b1c1e8cdc16d"
      },
      "outputs": [
        {
          "data": {
            "image/png": "[encoded data removed]",
            "text/plain": [
              "<Figure size 432x288 with 1 Axes>"
            ]
          },
          "metadata": {
            "needs_background": "light"
          },
          "output_type": "display_data"
        }
      ],
      "source": [
        "# 성별 분포\n",
        "sns.countplot(x=\"ma_fem_dv\", data = data1).set_title('가입자 성별 분포')\n",
        "plt.show()"
      ]
    },
    {
      "cell_type": "code",
      "execution_count": null,
      "metadata": {
        "colab": {
          "base_uri": "https://localhost:8080/",
          "height": 294
        },
        "id": "_WBPlsQ4Xb03",
        "outputId": "619e7ce3-d109-4c7f-ac09-48f20ec5ed49"
      },
      "outputs": [
        {
          "data": {
            "image/png": "[encoded data removed]",
            "text/plain": [
              "<Figure size 432x288 with 1 Axes>"
            ]
          },
          "metadata": {
            "needs_background": "light"
          },
          "output_type": "display_data"
        }
      ],
      "source": [
        "# 지역분포\n",
        "sns.countplot(x=\"zon_hlv\", data = data1).set_title('가입자 거주지역 분포')\n",
        "plt.show()"
      ]
    },
    {
      "cell_type": "code",
      "execution_count": null,
      "metadata": {
        "colab": {
          "base_uri": "https://localhost:8080/",
          "height": 294
        },
        "id": "_w721hRhX4sz",
        "outputId": "e445db5f-b622-4802-902d-8a5943029050"
      },
      "outputs": [
        {
          "data": {
            "image/png": "[encoded data removed]",
            "text/plain": [
              "<Figure size 432x288 with 1 Axes>"
            ]
          },
          "metadata": {
            "needs_background": "light"
          },
          "output_type": "display_data"
        }
      ],
      "source": [
        "sns.countplot(x=\"chnl_dv\", data = buy_data1).set_title('구입 채널(1:오프라인, 2:온라인)')\n",
        "plt.show()"
      ]
    },
    {
      "cell_type": "code",
      "execution_count": null,
      "metadata": {
        "colab": {
          "base_uri": "https://localhost:8080/",
          "height": 294
        },
        "id": "oaZBk7JvajGP",
        "outputId": "d5baa92f-00ec-4b94-c888-7726cc7e4050"
      },
      "outputs": [
        {
          "data": {
            "image/png": "[encoded data removed]",
            "text/plain": [
              "<Figure size 432x288 with 1 Axes>"
            ]
          },
          "metadata": {
            "needs_background": "light"
          },
          "output_type": "display_data"
        }
      ],
      "source": [
        "plt.rc('font', family='NanumBarunGothic')\n",
        "pt_data = pd.pivot_table(data = buy_data1, index = \"de_hr\", columns = \"ages\", aggfunc = \"size\", fill_value = 0) \n",
        "sns.lineplot(data = pt_data, linewidth = 3).set_title(\"연령별 구입 시간(중복집계)\")\n",
        "plt.show()"
      ]
    },
    {
      "cell_type": "code",
      "execution_count": null,
      "metadata": {
        "colab": {
          "base_uri": "https://localhost:8080/",
          "height": 294
        },
        "id": "FyW7bbODcXvV",
        "outputId": "a4e1da0a-3dc1-4a68-fd33-54b4a7ea78fe"
      },
      "outputs": [
        {
          "data": {
            "image/png": "[encoded data removed]",
            "text/plain": [
              "<Figure size 432x288 with 1 Axes>"
            ]
          },
          "metadata": {
            "needs_background": "light"
          },
          "output_type": "display_data"
        }
      ],
      "source": [
        "plt.rc('font', family='NanumBarunGothic')\n",
        "temp = buy_data1.copy()\n",
        "temp['de_dt'] = temp['de_dt']//100%100\n",
        "pt_data = pd.pivot_table(data = temp, index = \"de_dt\", columns = \"ages\", aggfunc = \"size\", fill_value = 0) \n",
        "sns.lineplot(data = pt_data, linewidth = 3).set_title(\"월별 구입 량(중복집계)\")\n",
        "plt.show()"
      ]
    },
    {
      "cell_type": "code",
      "execution_count": null,
      "metadata": {
        "colab": {
          "base_uri": "https://localhost:8080/",
          "height": 294
        },
        "id": "c0yCmvDMdwEW",
        "outputId": "568c271b-70f1-4b04-8966-11941a00d4db"
      },
      "outputs": [
        {
          "data": {
            "image/png": "[encoded data removed]",
            "text/plain": [
              "<Figure size 432x288 with 1 Axes>"
            ]
          },
          "metadata": {
            "needs_background": "light"
          },
          "output_type": "display_data"
        }
      ],
      "source": [
        "plt.rc('font', family='NanumBarunGothic')\n",
        "temp = buy_data1.copy()\n",
        "temp['de_dt'] = temp['de_dt']%100\n",
        "pt_data = pd.pivot_table(data = temp, index = \"de_dt\", columns = \"ages\", aggfunc = \"size\", fill_value = 0) \n",
        "sns.lineplot(data = pt_data, linewidth = 3).set_title(\"일별 구입 량(중복집계)\")\n",
        "plt.show()"
      ]
    },
    {
      "cell_type": "code",
      "execution_count": null,
      "metadata": {
        "colab": {
          "base_uri": "https://localhost:8080/",
          "height": 364
        },
        "id": "oxdzCUHW-_Gg",
        "outputId": "d53d304f-4316-4c8b-f8f2-6051811d120b"
      },
      "outputs": [
        {
          "data": {
            "image/png": "[encoded data removed]",
            "text/plain": [
              "<Figure size 432x288 with 1 Axes>"
            ]
          },
          "metadata": {
            "needs_background": "light"
          },
          "output_type": "display_data"
        }
      ],
      "source": [
        "plt.rc('font', family='NanumBarunGothic')\n",
        "plt.xticks(rotation=-90)\n",
        "pt_data = pd.pivot_table(data = buy_data1, index = \"clac_hlv_nm\", columns = \"ages\", aggfunc = \"size\", fill_value = 0)\n",
        "pt_data = pt_data[pt_data>1000].dropna(axis=0, how='any')\n",
        "pt_data\n",
        "sns.lineplot(data = pt_data, linewidth = 3).set_title(\"나이별 구입 카테고리(중복집계)\")\n",
        "plt.show()"
      ]
    },
    {
      "cell_type": "code",
      "execution_count": null,
      "metadata": {
        "id": "2c1_K3UrjTfG"
      },
      "outputs": [],
      "source": [
        "# 월별 구입 물품 카테고리 비교\n",
        "t1 = buy_data1[buy_data1['de_dt']//100%100==1]['clac_hlv_nm'].value_counts()"
      ]
    },
    {
      "cell_type": "code",
      "execution_count": null,
      "metadata": {
        "id": "1sehs2M5-jv7"
      },
      "outputs": [],
      "source": [
        "t12 = buy_data1[buy_data1['de_dt']//100%100==12]['clac_hlv_nm'].value_counts()"
      ]
    },
    {
      "cell_type": "code",
      "execution_count": null,
      "metadata": {
        "id": "jo68hQgUkKOZ"
      },
      "outputs": [],
      "source": [
        "t_mean = buy_data1['clac_hlv_nm'].value_counts()/12"
      ]
    },
    {
      "cell_type": "code",
      "execution_count": null,
      "metadata": {
        "colab": {
          "base_uri": "https://localhost:8080/"
        },
        "id": "DdLHdhkG8N2s",
        "outputId": "09f48cfb-2f8f-4a0f-e5eb-8e81efe68304"
      },
      "outputs": [
        {
          "data": {
            "text/plain": [
              "채소           -4801.833333\n",
              "음료           -4174.250000\n",
              "유제품          -3414.666667\n",
              "냉장식품         -3232.750000\n",
              "과일           -3182.500000\n",
              "축산물          -3035.500000\n",
              "과자           -3032.250000\n",
              "대용식          -2580.166667\n",
              "냉동식품         -2543.000000\n",
              "조미료          -1620.333333\n",
              "세제/위생        -1390.750000\n",
              "스포츠패션         -994.166667\n",
              "여성의류          -754.083333\n",
              "주방잡화          -615.583333\n",
              "건해산물          -526.250000\n",
              "퍼스널케어         -521.666667\n",
              "유아동의류         -515.083333\n",
              "병통조림          -489.750000\n",
              "조리식품          -380.833333\n",
              "건강식품          -355.500000\n",
              "속옷/양말/홈웨어     -349.833333\n",
              "원예/애완         -334.000000\n",
              "식기/조리기구       -293.250000\n",
              "양곡            -263.833333\n",
              "출산/육아용품       -247.000000\n",
              "침구/수예         -157.500000\n",
              "구기/필드스포츠      -143.833333\n",
              "유아식품          -134.500000\n",
              "수산물           -131.000000\n",
              "가구            -110.000000\n",
              "헬스/피트니스        -94.416667\n",
              "시즌스포츠          -86.083333\n",
              "생활/주방가전        -80.000000\n",
              "냉장/세탁가전        -69.083333\n",
              "건강용품           -62.083333\n",
              "생활/렌탈서비스       -60.250000\n",
              "아웃도어/레저        -48.333333\n",
              "컴퓨터            -48.083333\n",
              "모바일            -41.500000\n",
              "자동차용품          -37.250000\n",
              "여행/레저서비스       -31.416667\n",
              "영상/음향가전        -29.000000\n",
              "상품권            -24.166667\n",
              "계절가전           -13.250000\n",
              "서적/음반/악기       -10.500000\n",
              "공구/안전용품          5.750000\n",
              "청소/세탁/욕실용품       7.250000\n",
              "화장품/뷰티케어        12.500000\n",
              "패션잡화            38.166667\n",
              "커피/차            76.500000\n",
              "문구/사무용품         92.416667\n",
              "인테리어/조명         93.583333\n",
              "남성의류           203.333333\n",
              "담배             258.416667\n",
              "기타(비상품)        470.166667\n",
              "주류            1055.166667\n",
              "테넌트/음식점       1087.666667\n",
              "완구            1253.500000\n",
              "금융/보험서비스              NaN\n",
              "기타상품                  NaN\n",
              "Name: clac_hlv_nm, dtype: float64"
            ]
          },
          "execution_count": 44,
          "metadata": {},
          "output_type": "execute_result"
        }
      ],
      "source": [
        "(t12-t_mean).sort_values()"
      ]
    },
    {
      "cell_type": "code",
      "execution_count": null,
      "metadata": {
        "colab": {
          "base_uri": "https://localhost:8080/",
          "height": 250
        },
        "id": "4WUfpeHQXf84",
        "outputId": "46b68db6-629c-4d45-e0e7-71d2e1c9e0aa"
      },
      "outputs": [
        {
          "data": {
            "text/html": [
              "\n",
              "  <div id=\"df-c6050edc-ee7a-491a-87ef-bc1a4ffe251f\">\n",
              "    <div class=\"colab-df-container\">\n",
              "      <div>\n",
              "<style scoped>\n",
              "    .dataframe tbody tr th:only-of-type {\n",
              "        vertical-align: middle;\n",
              "    }\n",
              "\n",
              "    .dataframe tbody tr th {\n",
              "        vertical-align: top;\n",
              "    }\n",
              "\n",
              "    .dataframe thead th {\n",
              "        text-align: right;\n",
              "    }\n",
              "</style>\n",
              "<table border=\"1\" class=\"dataframe\">\n",
              "  <thead>\n",
              "    <tr style=\"text-align: right;\">\n",
              "      <th></th>\n",
              "      <th>cust</th>\n",
              "      <th>rct_no</th>\n",
              "      <th>chnl_dv</th>\n",
              "      <th>cop_c_x</th>\n",
              "      <th>br_c</th>\n",
              "      <th>pd_c</th>\n",
              "      <th>de_dt</th>\n",
              "      <th>de_hr</th>\n",
              "      <th>buy_am</th>\n",
              "      <th>buy_ct</th>\n",
              "      <th>ma_fem_dv</th>\n",
              "      <th>ages</th>\n",
              "      <th>zon_hlv_x</th>\n",
              "      <th>pd_nm</th>\n",
              "      <th>clac_hlv_nm</th>\n",
              "      <th>clac_mcls_nm</th>\n",
              "      <th>cop_c_y</th>\n",
              "      <th>zon_hlv_y</th>\n",
              "      <th>zon_mcls</th>\n",
              "    </tr>\n",
              "  </thead>\n",
              "  <tbody>\n",
              "    <tr>\n",
              "      <th>0</th>\n",
              "      <td>M430112881</td>\n",
              "      <td>A01000001113</td>\n",
              "      <td>1</td>\n",
              "      <td>A01</td>\n",
              "      <td>A010039</td>\n",
              "      <td>PD0290</td>\n",
              "      <td>20210101</td>\n",
              "      <td>10</td>\n",
              "      <td>15000.0</td>\n",
              "      <td>1</td>\n",
              "      <td>여성</td>\n",
              "      <td>50대</td>\n",
              "      <td>Z17</td>\n",
              "      <td>남성티셔츠</td>\n",
              "      <td>남성의류</td>\n",
              "      <td>남성의류상의</td>\n",
              "      <td>A01</td>\n",
              "      <td>Z10</td>\n",
              "      <td>Z10042</td>\n",
              "    </tr>\n",
              "    <tr>\n",
              "      <th>1</th>\n",
              "      <td>M646853852</td>\n",
              "      <td>A01000002265</td>\n",
              "      <td>1</td>\n",
              "      <td>A01</td>\n",
              "      <td>A010025</td>\n",
              "      <td>PD1369</td>\n",
              "      <td>20210101</td>\n",
              "      <td>10</td>\n",
              "      <td>79700.0</td>\n",
              "      <td>1</td>\n",
              "      <td>여성</td>\n",
              "      <td>40대</td>\n",
              "      <td>Z13</td>\n",
              "      <td>기타주방일회용품</td>\n",
              "      <td>주방잡화</td>\n",
              "      <td>주방일회용품</td>\n",
              "      <td>A01</td>\n",
              "      <td>Z13</td>\n",
              "      <td>Z13001</td>\n",
              "    </tr>\n",
              "    <tr>\n",
              "      <th>2</th>\n",
              "      <td>M430112881</td>\n",
              "      <td>A01000003148</td>\n",
              "      <td>1</td>\n",
              "      <td>A01</td>\n",
              "      <td>A010039</td>\n",
              "      <td>PD0290</td>\n",
              "      <td>20210101</td>\n",
              "      <td>10</td>\n",
              "      <td>19000.0</td>\n",
              "      <td>1</td>\n",
              "      <td>여성</td>\n",
              "      <td>50대</td>\n",
              "      <td>Z17</td>\n",
              "      <td>남성티셔츠</td>\n",
              "      <td>남성의류</td>\n",
              "      <td>남성의류상의</td>\n",
              "      <td>A01</td>\n",
              "      <td>Z10</td>\n",
              "      <td>Z10042</td>\n",
              "    </tr>\n",
              "    <tr>\n",
              "      <th>3</th>\n",
              "      <td>M430112881</td>\n",
              "      <td>A01000003148</td>\n",
              "      <td>1</td>\n",
              "      <td>A01</td>\n",
              "      <td>A010039</td>\n",
              "      <td>PD0290</td>\n",
              "      <td>20210101</td>\n",
              "      <td>10</td>\n",
              "      <td>19000.0</td>\n",
              "      <td>1</td>\n",
              "      <td>여성</td>\n",
              "      <td>50대</td>\n",
              "      <td>Z17</td>\n",
              "      <td>남성티셔츠</td>\n",
              "      <td>남성의류</td>\n",
              "      <td>남성의류상의</td>\n",
              "      <td>A01</td>\n",
              "      <td>Z10</td>\n",
              "      <td>Z10042</td>\n",
              "    </tr>\n",
              "    <tr>\n",
              "      <th>4</th>\n",
              "      <td>M430112881</td>\n",
              "      <td>A01000004946</td>\n",
              "      <td>1</td>\n",
              "      <td>A01</td>\n",
              "      <td>A010039</td>\n",
              "      <td>PD0290</td>\n",
              "      <td>20210101</td>\n",
              "      <td>10</td>\n",
              "      <td>19000.0</td>\n",
              "      <td>1</td>\n",
              "      <td>여성</td>\n",
              "      <td>50대</td>\n",
              "      <td>Z17</td>\n",
              "      <td>남성티셔츠</td>\n",
              "      <td>남성의류</td>\n",
              "      <td>남성의류상의</td>\n",
              "      <td>A01</td>\n",
              "      <td>Z10</td>\n",
              "      <td>Z10042</td>\n",
              "    </tr>\n",
              "  </tbody>\n",
              "</table>\n",
              "</div>\n",
              "      <button class=\"colab-df-convert\" onclick=\"convertToInteractive('df-c6050edc-ee7a-491a-87ef-bc1a4ffe251f')\"\n",
              "              title=\"Convert this dataframe to an interactive table.\"\n",
              "              style=\"display:none;\">\n",
              "        \n",
              "  <svg xmlns=\"http://www.w3.org/2000/svg\" height=\"24px\"viewBox=\"0 0 24 24\"\n",
              "       width=\"24px\">\n",
              "    <path d=\"M0 0h24v24H0V0z\" fill=\"none\"/>\n",
              "    <path d=\"M18.56 5.44l.94 2.06.94-2.06 2.06-.94-2.06-.94-.94-2.06-.94 2.06-2.06.94zm-11 1L8.5 8.5l.94-2.06 2.06-.94-2.06-.94L8.5 2.5l-.94 2.06-2.06.94zm10 10l.94 2.06.94-2.06 2.06-.94-2.06-.94-.94-2.06-.94 2.06-2.06.94z\"/><path d=\"M17.41 7.96l-1.37-1.37c-.4-.4-.92-.59-1.43-.59-.52 0-1.04.2-1.43.59L10.3 9.45l-7.72 7.72c-.78.78-.78 2.05 0 2.83L4 21.41c.39.39.9.59 1.41.59.51 0 1.02-.2 1.41-.59l7.78-7.78 2.81-2.81c.8-.78.8-2.07 0-2.86zM5.41 20L4 18.59l7.72-7.72 1.47 1.35L5.41 20z\"/>\n",
              "  </svg>\n",
              "      </button>\n",
              "      \n",
              "  <style>\n",
              "    .colab-df-container {\n",
              "      display:flex;\n",
              "      flex-wrap:wrap;\n",
              "      gap: 12px;\n",
              "    }\n",
              "\n",
              "    .colab-df-convert {\n",
              "      background-color: #E8F0FE;\n",
              "      border: none;\n",
              "      border-radius: 50%;\n",
              "      cursor: pointer;\n",
              "      display: none;\n",
              "      fill: #1967D2;\n",
              "      height: 32px;\n",
              "      padding: 0 0 0 0;\n",
              "      width: 32px;\n",
              "    }\n",
              "\n",
              "    .colab-df-convert:hover {\n",
              "      background-color: #E2EBFA;\n",
              "      box-shadow: 0px 1px 2px rgba(60, 64, 67, 0.3), 0px 1px 3px 1px rgba(60, 64, 67, 0.15);\n",
              "      fill: #174EA6;\n",
              "    }\n",
              "\n",
              "    [theme=dark] .colab-df-convert {\n",
              "      background-color: #3B4455;\n",
              "      fill: #D2E3FC;\n",
              "    }\n",
              "\n",
              "    [theme=dark] .colab-df-convert:hover {\n",
              "      background-color: #434B5C;\n",
              "      box-shadow: 0px 1px 3px 1px rgba(0, 0, 0, 0.15);\n",
              "      filter: drop-shadow(0px 1px 2px rgba(0, 0, 0, 0.3));\n",
              "      fill: #FFFFFF;\n",
              "    }\n",
              "  </style>\n",
              "\n",
              "      <script>\n",
              "        const buttonEl =\n",
              "          document.querySelector('#df-c6050edc-ee7a-491a-87ef-bc1a4ffe251f button.colab-df-convert');\n",
              "        buttonEl.style.display =\n",
              "          google.colab.kernel.accessAllowed ? 'block' : 'none';\n",
              "\n",
              "        async function convertToInteractive(key) {\n",
              "          const element = document.querySelector('#df-c6050edc-ee7a-491a-87ef-bc1a4ffe251f');\n",
              "          const dataTable =\n",
              "            await google.colab.kernel.invokeFunction('convertToInteractive',\n",
              "                                                     [key], {});\n",
              "          if (!dataTable) return;\n",
              "\n",
              "          const docLinkHtml = 'Like what you see? Visit the ' +\n",
              "            '<a target=\"_blank\" href=https://colab.research.google.com/notebooks/data_table.ipynb>data table notebook</a>'\n",
              "            + ' to learn more about interactive tables.';\n",
              "          element.innerHTML = '';\n",
              "          dataTable['output_type'] = 'display_data';\n",
              "          await google.colab.output.renderOutput(dataTable, element);\n",
              "          const docLink = document.createElement('div');\n",
              "          docLink.innerHTML = docLinkHtml;\n",
              "          element.appendChild(docLink);\n",
              "        }\n",
              "      </script>\n",
              "    </div>\n",
              "  </div>\n",
              "  "
            ],
            "text/plain": [
              "         cust        rct_no  chnl_dv cop_c_x     br_c    pd_c     de_dt  \\\n",
              "0  M430112881  A01000001113        1     A01  A010039  PD0290  20210101   \n",
              "1  M646853852  A01000002265        1     A01  A010025  PD1369  20210101   \n",
              "2  M430112881  A01000003148        1     A01  A010039  PD0290  20210101   \n",
              "3  M430112881  A01000003148        1     A01  A010039  PD0290  20210101   \n",
              "4  M430112881  A01000004946        1     A01  A010039  PD0290  20210101   \n",
              "\n",
              "   de_hr   buy_am  buy_ct ma_fem_dv ages zon_hlv_x     pd_nm clac_hlv_nm  \\\n",
              "0     10  15000.0       1        여성  50대       Z17     남성티셔츠        남성의류   \n",
              "1     10  79700.0       1        여성  40대       Z13  기타주방일회용품        주방잡화   \n",
              "2     10  19000.0       1        여성  50대       Z17     남성티셔츠        남성의류   \n",
              "3     10  19000.0       1        여성  50대       Z17     남성티셔츠        남성의류   \n",
              "4     10  19000.0       1        여성  50대       Z17     남성티셔츠        남성의류   \n",
              "\n",
              "  clac_mcls_nm cop_c_y zon_hlv_y zon_mcls  \n",
              "0       남성의류상의     A01       Z10   Z10042  \n",
              "1       주방일회용품     A01       Z13   Z13001  \n",
              "2       남성의류상의     A01       Z10   Z10042  \n",
              "3       남성의류상의     A01       Z10   Z10042  \n",
              "4       남성의류상의     A01       Z10   Z10042  "
            ]
          },
          "execution_count": 20,
          "metadata": {},
          "output_type": "execute_result"
        }
      ],
      "source": [
        "buy_data1.head()"
      ]
    },
    {
      "cell_type": "markdown",
      "metadata": {
        "id": "M88ibZwr9vdm"
      },
      "source": [
        "# 온라인, 오프라인 Lpay 사용 비율 분석\n"
      ]
    },
    {
      "cell_type": "code",
      "execution_count": 77,
      "metadata": {
        "id": "rzNNWNL9GjYS"
      },
      "outputs": [],
      "source": [
        "data2_online = data2[data2['chnl_dv']==2].drop_duplicates()\n",
        "data2_offline = data2[data2['chnl_dv']==1].drop_duplicates()\n",
        "\n",
        "data3_online = data3[data3['chnl_dv']==2].drop_duplicates()\n",
        "data3_offline = data3[data3['chnl_dv']==1].drop_duplicates()\n",
        "\n",
        "data6_online = data6[data6['chnl_dv']==2].drop_duplicates()\n",
        "data6_offline = data6[data6['chnl_dv']==1].drop_duplicates()\n"
      ]
    },
    {
      "cell_type": "code",
      "execution_count": 78,
      "metadata": {
        "id": "L1a7k3VX9z-h"
      },
      "outputs": [],
      "source": [
        "data2_online_len = len(data2_online)\n",
        "data2_offline_len = len(data2_offline)\n",
        "\n",
        "data3_online_len = len(data3_online)\n",
        "data3_offline_len = len(data3_offline)\n",
        "\n",
        "data6_online_len = len(data6_online)\n",
        "data6_offline_len = len(data6_offline)"
      ]
    },
    {
      "cell_type": "code",
      "execution_count": 79,
      "metadata": {
        "id": "g6fAvPrDyIvS"
      },
      "outputs": [],
      "source": [
        "data2_online_lpay = len(pd.merge(data2_online, data6_online, on=[\"cust\",'chnl_dv', 'buy_am', 'de_dt', 'de_hr']))\n",
        "data2_offline_lpay = len(pd.merge(data2_offline, data6_offline, on=[\"cust\",'chnl_dv', 'buy_am', 'de_dt', 'de_hr']))\n",
        "\n",
        "data3_online_lpay = len(pd.merge(data3_online, data6_online, on=[\"cust\",'chnl_dv', 'buy_am', 'de_dt', 'de_hr']))\n",
        "data3_offline_lpay = len(pd.merge(data3_offline, data6_offline, on=[\"cust\",'chnl_dv', 'buy_am', 'de_dt', 'de_hr']))"
      ]
    },
    {
      "cell_type": "code",
      "execution_count": 100,
      "metadata": {
        "colab": {
          "base_uri": "https://localhost:8080/",
          "height": 0
        },
        "id": "r8o9bAvUGT7z",
        "outputId": "595d12a6-b537-4a2e-85bf-68c87a67e699"
      },
      "outputs": [
        {
          "name": "stdout",
          "output_type": "stream",
          "text": [
            "전체 150010건의 Lpay 오프라인 결제 중 36194건 data2에서 발견, 12100건 data3에서 발견\n",
            "전체 오프라인 Lpay사용 건 중 32.19% 만 발견\n",
            "전체 203174건의 Lpay 온라인 결제 중 2420건 data2에서 발견, 9562건 data3에서 발견\n",
            "전체 온라인 Lpay사용 건 중 5.90% 만 발견\n"
          ]
        }
      ],
      "source": [
        "print(f\"전체 {data6_offline_len}건의 Lpay 오프라인 결제 중 {data2_offline_lpay}건 data2에서 발견, {data3_offline_lpay}건 data3에서 발견\")\n",
        "print(f'전체 오프라인 Lpay사용 건 중 {(data2_offline_lpay+data3_offline_lpay)/data6_offline_len*100:.2f}% 만 발견')\n",
        "print(f\"전체 {data6_online_len}건의 Lpay 온라인 결제 중 {data2_online_lpay}건 data2에서 발견, {data3_online_lpay}건 data3에서 발견\")\n",
        "print(f'전체 온라인 Lpay사용 건 중 {(data2_online_lpay+data3_online_lpay)/data6_online_len*100:.2f}% 만 발견')"
      ]
    },
    {
      "cell_type": "markdown",
      "metadata": {
        "id": "A6CRzA5N1eOm"
      },
      "source": [
        "Lpay 사용 건 중 소수만 data2와 data3에서 찾을 수 있으므로 아래 분석의 신뢰도는 낮을 수도 있음      \n",
        "data2와 data3에서의 구매내역중 Lpay를 이용한 경우가 전부 data6에 있을거라 장담할 수 없음 "
      ]
    },
    {
      "cell_type": "code",
      "execution_count": 101,
      "metadata": {
        "colab": {
          "base_uri": "https://localhost:8080/",
          "height": 0
        },
        "id": "KymPPCzgusqC",
        "outputId": "f47d2b58-7b15-4c89-cbb5-eb1880db452e"
      },
      "outputs": [
        {
          "name": "stdout",
          "output_type": "stream",
          "text": [
            "data2에서 온라인 구매의 Lpay 사용률 : 0.644%  오프라인 구매의 Lpay 사용률 : 0.960%\n",
            "data3에서 온라인 구매의 Lpay 사용률 : 27.494%  오프라인 구매의 Lpay 사용률 : 5.667%\n",
            "\n",
            "data2와 data3 통합 온라인 구매의 Lpay 사용률 : 2.918% 오프라인 구매의 Lpay사용률 : 1.213%\n"
          ]
        }
      ],
      "source": [
        "print(f'data2에서 온라인 구매의 Lpay 사용률 : {data2_online_lpay/data2_online_len*100:.3f}%  오프라인 구매의 Lpay 사용률 : {data2_offline_lpay/data2_offline_len*100:.3f}%')\n",
        "print(f'data3에서 온라인 구매의 Lpay 사용률 : {data3_online_lpay/data3_online_len*100:.3f}%  오프라인 구매의 Lpay 사용률 : {data3_offline_lpay/data3_offline_len*100:.3f}%')\n",
        "print(f\"\\ndata2와 data3 통합 온라인 구매의 Lpay 사용률 : {(data2_online_lpay+data3_online_lpay)/(data2_online_len+data3_online_len)*100:.3f}% 오프라인 구매의 Lpay사용률 : {(data2_offline_lpay+data3_offline_lpay)/(data2_offline_len+data3_offline_len)*100:.3f}%\")"
      ]
    },
    {
      "cell_type": "code",
      "execution_count": null,
      "metadata": {
        "id": "c5cdirSO2XPH"
      },
      "outputs": [],
      "source": []
    }
  ],
  "metadata": {
    "colab": {
      "collapsed_sections": [],
      "name": "Lpoint.ipynb",
      "provenance": []
    },
    "kernelspec": {
      "display_name": "Python 3.8.13 ('dsl')",
      "language": "python",
      "name": "python3"
    },
    "language_info": {
      "name": "python",
      "version": "3.8.13"
    },
    "vscode": {
      "interpreter": {
        "hash": "c63b82bda4a59cf6ca173a5561c11d395741e2dc788a905fb35d4e95d98277a6"
      }
    }
  },
  "nbformat": 4,
  "nbformat_minor": 0
}
