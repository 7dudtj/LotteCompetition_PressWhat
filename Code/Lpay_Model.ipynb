{
  "nbformat": 4,
  "nbformat_minor": 0,
  "metadata": {
    "colab": {
      "name": "Lpay_Model.ipynb",
      "provenance": [],
      "collapsed_sections": []
    },
    "kernelspec": {
      "name": "python3",
      "display_name": "Python 3"
    },
    "language_info": {
      "name": "python"
    }
  },
  "cells": [
    {
      "cell_type": "code",
      "execution_count": 2,
      "metadata": {
        "id": "kUX1y0ys3E9a"
      },
      "outputs": [],
      "source": [
        "import pandas as pd\n",
        "import numpy as np"
      ]
    },
    {
      "cell_type": "code",
      "source": [
        "# read data\n",
        "data1 = pd.read_csv(\"./drive/MyDrive/LPOINT_BIG_COMP_01_DEMO.csv\")   # cust 고객번호 ma_fem_dv 성별 ages 나이 zon_hlv 거주지코드\n",
        "data2 = pd.read_csv(\"./drive/MyDrive/LPOINT_BIG_COMP_02_PDDE.csv\")   # cust 고객번호 rct_no 영수증번호 chnl_dv 채널구분 cop_c 제휴사코드 br_c 점포코드 pd_c 상품코드 de_dt 거래일 de_hr 거래시간 buy_am 구매가격 buy_ct 구매개수\n",
        "data4 = pd.read_csv(\"./drive/MyDrive/LPOINT_BIG_COMP_04_PD_CLAC.csv\")# pd_c 상품번호 pd_nm 상품명 clac_hlv_nm 카테고리 clac_mcls_nm 세부카테고리 \n",
        "data5 = pd.read_csv(\"./drive/MyDrive/LPOINT_BIG_COMP_05_BR.csv\")     # br_c 점포번호 cop_c 제휴사 코드 zon_hlv 카테고리 zon_mcls 세부카테고리\n",
        "data6 = pd.read_csv(\"./drive/MyDrive/LPOINT_BIG_COMP_06_LPAY.csv\")   # rct_no 영수증 번호 cop_c 제휴사코드 chnl_dv 채널구분 de_dt 구매일 de_hr 구매시간 buy_am 결제금액\n",
        "data7 = pd.read_csv(\"./drive/MyDrive/총조사인구_성_연령별__20220808171442.csv\", encoding='cp949')  # https://gsis.kwdi.re.kr/statHtml/statHtml.do?orgId=338&tblId=DT_1IN0503"
      ],
      "metadata": {
        "colab": {
          "base_uri": "https://localhost:8080/"
        },
        "id": "4eaZae5l3UG4",
        "outputId": "4e3016e3-5a18-4b0b-8840-763e167858fe"
      },
      "execution_count": 3,
      "outputs": [
        {
          "output_type": "stream",
          "name": "stderr",
          "text": [
            "/usr/local/lib/python3.7/dist-packages/IPython/core/interactiveshell.py:2882: DtypeWarning: Columns (4) have mixed types.Specify dtype option on import or set low_memory=False.\n",
            "  exec(code_obj, self.user_global_ns, self.user_ns)\n"
          ]
        }
      ]
    },
    {
      "cell_type": "code",
      "source": [
        "data7"
      ],
      "metadata": {
        "colab": {
          "base_uri": "https://localhost:8080/",
          "height": 959
        },
        "id": "A_vRbb7kmaHD",
        "outputId": "71a90ab3-8991-424d-fe64-597d4b714ce3"
      },
      "execution_count": 4,
      "outputs": [
        {
          "output_type": "execute_result",
          "data": {
            "text/plain": [
              "       연령별      2020    2020.1    2020.2  2020.3\n",
              "0      연령별    전체 (명)    여자 (명)    남자 (명)  성비 (%)\n",
              "1        계  50133493  25160905  24972588    99.3\n",
              "2     0~4세   1684917    820641    864276   105.3\n",
              "3     5~9세   2238916   1090668   1148248   105.3\n",
              "4   10~14세   2252113   1091015   1161098   106.4\n",
              "5   15~19세   2422002   1163117   1258885   108.2\n",
              "6   20~24세   3193316   1522680   1670636   109.7\n",
              "7   25~29세   3423231   1609335   1813896   112.7\n",
              "8   30~34세   3032832   1452932   1579900   108.7\n",
              "9   35~39세   3594213   1752500   1841713   105.1\n",
              "10  40~44세   3758298   1848780   1909518   103.3\n",
              "11  45~49세   4195327   2071716   2123611   102.5\n",
              "12  50~54세   4245683   2115658   2130025   100.7\n",
              "13  55~59세   4091920   2040699   2051221   100.5\n",
              "14  60~64세   3795217   1925858   1869359    97.1\n",
              "15  65~69세   2685773   1393852   1291921    92.7\n",
              "16  70~74세   2009542   1070632    938910    87.7\n",
              "17  75~79세   1593192    911426    681766    74.8\n",
              "18  80~84세   1115804    698050    417754    59.8\n",
              "19   85세이상    801197    581346    219851    37.8\n",
              "20  85~89세    562068    393887    168181    42.7\n",
              "21  90~94세    192149    149324     42825    28.7\n",
              "22  95~99세     41399     33404      7995    23.9\n",
              "23  100세이상      5581      4731       850    18.0\n",
              "24   15세미만   6175946   3002324   3173622   105.7\n",
              "25  15~64세  35752039  17503275  18248764   104.3\n",
              "26   65세이상   8205508   4655306   3550202    76.3\n",
              "27    평균연령        43        44        42       -\n",
              "28   연령중위수        44        46        43       -"
            ],
            "text/html": [
              "\n",
              "  <div id=\"df-a8d7401c-ae23-4ab9-bfc8-5b58a9b685bf\">\n",
              "    <div class=\"colab-df-container\">\n",
              "      <div>\n",
              "<style scoped>\n",
              "    .dataframe tbody tr th:only-of-type {\n",
              "        vertical-align: middle;\n",
              "    }\n",
              "\n",
              "    .dataframe tbody tr th {\n",
              "        vertical-align: top;\n",
              "    }\n",
              "\n",
              "    .dataframe thead th {\n",
              "        text-align: right;\n",
              "    }\n",
              "</style>\n",
              "<table border=\"1\" class=\"dataframe\">\n",
              "  <thead>\n",
              "    <tr style=\"text-align: right;\">\n",
              "      <th></th>\n",
              "      <th>연령별</th>\n",
              "      <th>2020</th>\n",
              "      <th>2020.1</th>\n",
              "      <th>2020.2</th>\n",
              "      <th>2020.3</th>\n",
              "    </tr>\n",
              "  </thead>\n",
              "  <tbody>\n",
              "    <tr>\n",
              "      <th>0</th>\n",
              "      <td>연령별</td>\n",
              "      <td>전체 (명)</td>\n",
              "      <td>여자 (명)</td>\n",
              "      <td>남자 (명)</td>\n",
              "      <td>성비 (%)</td>\n",
              "    </tr>\n",
              "    <tr>\n",
              "      <th>1</th>\n",
              "      <td>계</td>\n",
              "      <td>50133493</td>\n",
              "      <td>25160905</td>\n",
              "      <td>24972588</td>\n",
              "      <td>99.3</td>\n",
              "    </tr>\n",
              "    <tr>\n",
              "      <th>2</th>\n",
              "      <td>0~4세</td>\n",
              "      <td>1684917</td>\n",
              "      <td>820641</td>\n",
              "      <td>864276</td>\n",
              "      <td>105.3</td>\n",
              "    </tr>\n",
              "    <tr>\n",
              "      <th>3</th>\n",
              "      <td>5~9세</td>\n",
              "      <td>2238916</td>\n",
              "      <td>1090668</td>\n",
              "      <td>1148248</td>\n",
              "      <td>105.3</td>\n",
              "    </tr>\n",
              "    <tr>\n",
              "      <th>4</th>\n",
              "      <td>10~14세</td>\n",
              "      <td>2252113</td>\n",
              "      <td>1091015</td>\n",
              "      <td>1161098</td>\n",
              "      <td>106.4</td>\n",
              "    </tr>\n",
              "    <tr>\n",
              "      <th>5</th>\n",
              "      <td>15~19세</td>\n",
              "      <td>2422002</td>\n",
              "      <td>1163117</td>\n",
              "      <td>1258885</td>\n",
              "      <td>108.2</td>\n",
              "    </tr>\n",
              "    <tr>\n",
              "      <th>6</th>\n",
              "      <td>20~24세</td>\n",
              "      <td>3193316</td>\n",
              "      <td>1522680</td>\n",
              "      <td>1670636</td>\n",
              "      <td>109.7</td>\n",
              "    </tr>\n",
              "    <tr>\n",
              "      <th>7</th>\n",
              "      <td>25~29세</td>\n",
              "      <td>3423231</td>\n",
              "      <td>1609335</td>\n",
              "      <td>1813896</td>\n",
              "      <td>112.7</td>\n",
              "    </tr>\n",
              "    <tr>\n",
              "      <th>8</th>\n",
              "      <td>30~34세</td>\n",
              "      <td>3032832</td>\n",
              "      <td>1452932</td>\n",
              "      <td>1579900</td>\n",
              "      <td>108.7</td>\n",
              "    </tr>\n",
              "    <tr>\n",
              "      <th>9</th>\n",
              "      <td>35~39세</td>\n",
              "      <td>3594213</td>\n",
              "      <td>1752500</td>\n",
              "      <td>1841713</td>\n",
              "      <td>105.1</td>\n",
              "    </tr>\n",
              "    <tr>\n",
              "      <th>10</th>\n",
              "      <td>40~44세</td>\n",
              "      <td>3758298</td>\n",
              "      <td>1848780</td>\n",
              "      <td>1909518</td>\n",
              "      <td>103.3</td>\n",
              "    </tr>\n",
              "    <tr>\n",
              "      <th>11</th>\n",
              "      <td>45~49세</td>\n",
              "      <td>4195327</td>\n",
              "      <td>2071716</td>\n",
              "      <td>2123611</td>\n",
              "      <td>102.5</td>\n",
              "    </tr>\n",
              "    <tr>\n",
              "      <th>12</th>\n",
              "      <td>50~54세</td>\n",
              "      <td>4245683</td>\n",
              "      <td>2115658</td>\n",
              "      <td>2130025</td>\n",
              "      <td>100.7</td>\n",
              "    </tr>\n",
              "    <tr>\n",
              "      <th>13</th>\n",
              "      <td>55~59세</td>\n",
              "      <td>4091920</td>\n",
              "      <td>2040699</td>\n",
              "      <td>2051221</td>\n",
              "      <td>100.5</td>\n",
              "    </tr>\n",
              "    <tr>\n",
              "      <th>14</th>\n",
              "      <td>60~64세</td>\n",
              "      <td>3795217</td>\n",
              "      <td>1925858</td>\n",
              "      <td>1869359</td>\n",
              "      <td>97.1</td>\n",
              "    </tr>\n",
              "    <tr>\n",
              "      <th>15</th>\n",
              "      <td>65~69세</td>\n",
              "      <td>2685773</td>\n",
              "      <td>1393852</td>\n",
              "      <td>1291921</td>\n",
              "      <td>92.7</td>\n",
              "    </tr>\n",
              "    <tr>\n",
              "      <th>16</th>\n",
              "      <td>70~74세</td>\n",
              "      <td>2009542</td>\n",
              "      <td>1070632</td>\n",
              "      <td>938910</td>\n",
              "      <td>87.7</td>\n",
              "    </tr>\n",
              "    <tr>\n",
              "      <th>17</th>\n",
              "      <td>75~79세</td>\n",
              "      <td>1593192</td>\n",
              "      <td>911426</td>\n",
              "      <td>681766</td>\n",
              "      <td>74.8</td>\n",
              "    </tr>\n",
              "    <tr>\n",
              "      <th>18</th>\n",
              "      <td>80~84세</td>\n",
              "      <td>1115804</td>\n",
              "      <td>698050</td>\n",
              "      <td>417754</td>\n",
              "      <td>59.8</td>\n",
              "    </tr>\n",
              "    <tr>\n",
              "      <th>19</th>\n",
              "      <td>85세이상</td>\n",
              "      <td>801197</td>\n",
              "      <td>581346</td>\n",
              "      <td>219851</td>\n",
              "      <td>37.8</td>\n",
              "    </tr>\n",
              "    <tr>\n",
              "      <th>20</th>\n",
              "      <td>85~89세</td>\n",
              "      <td>562068</td>\n",
              "      <td>393887</td>\n",
              "      <td>168181</td>\n",
              "      <td>42.7</td>\n",
              "    </tr>\n",
              "    <tr>\n",
              "      <th>21</th>\n",
              "      <td>90~94세</td>\n",
              "      <td>192149</td>\n",
              "      <td>149324</td>\n",
              "      <td>42825</td>\n",
              "      <td>28.7</td>\n",
              "    </tr>\n",
              "    <tr>\n",
              "      <th>22</th>\n",
              "      <td>95~99세</td>\n",
              "      <td>41399</td>\n",
              "      <td>33404</td>\n",
              "      <td>7995</td>\n",
              "      <td>23.9</td>\n",
              "    </tr>\n",
              "    <tr>\n",
              "      <th>23</th>\n",
              "      <td>100세이상</td>\n",
              "      <td>5581</td>\n",
              "      <td>4731</td>\n",
              "      <td>850</td>\n",
              "      <td>18.0</td>\n",
              "    </tr>\n",
              "    <tr>\n",
              "      <th>24</th>\n",
              "      <td>15세미만</td>\n",
              "      <td>6175946</td>\n",
              "      <td>3002324</td>\n",
              "      <td>3173622</td>\n",
              "      <td>105.7</td>\n",
              "    </tr>\n",
              "    <tr>\n",
              "      <th>25</th>\n",
              "      <td>15~64세</td>\n",
              "      <td>35752039</td>\n",
              "      <td>17503275</td>\n",
              "      <td>18248764</td>\n",
              "      <td>104.3</td>\n",
              "    </tr>\n",
              "    <tr>\n",
              "      <th>26</th>\n",
              "      <td>65세이상</td>\n",
              "      <td>8205508</td>\n",
              "      <td>4655306</td>\n",
              "      <td>3550202</td>\n",
              "      <td>76.3</td>\n",
              "    </tr>\n",
              "    <tr>\n",
              "      <th>27</th>\n",
              "      <td>평균연령</td>\n",
              "      <td>43</td>\n",
              "      <td>44</td>\n",
              "      <td>42</td>\n",
              "      <td>-</td>\n",
              "    </tr>\n",
              "    <tr>\n",
              "      <th>28</th>\n",
              "      <td>연령중위수</td>\n",
              "      <td>44</td>\n",
              "      <td>46</td>\n",
              "      <td>43</td>\n",
              "      <td>-</td>\n",
              "    </tr>\n",
              "  </tbody>\n",
              "</table>\n",
              "</div>\n",
              "      <button class=\"colab-df-convert\" onclick=\"convertToInteractive('df-a8d7401c-ae23-4ab9-bfc8-5b58a9b685bf')\"\n",
              "              title=\"Convert this dataframe to an interactive table.\"\n",
              "              style=\"display:none;\">\n",
              "        \n",
              "  <svg xmlns=\"http://www.w3.org/2000/svg\" height=\"24px\"viewBox=\"0 0 24 24\"\n",
              "       width=\"24px\">\n",
              "    <path d=\"M0 0h24v24H0V0z\" fill=\"none\"/>\n",
              "    <path d=\"M18.56 5.44l.94 2.06.94-2.06 2.06-.94-2.06-.94-.94-2.06-.94 2.06-2.06.94zm-11 1L8.5 8.5l.94-2.06 2.06-.94-2.06-.94L8.5 2.5l-.94 2.06-2.06.94zm10 10l.94 2.06.94-2.06 2.06-.94-2.06-.94-.94-2.06-.94 2.06-2.06.94z\"/><path d=\"M17.41 7.96l-1.37-1.37c-.4-.4-.92-.59-1.43-.59-.52 0-1.04.2-1.43.59L10.3 9.45l-7.72 7.72c-.78.78-.78 2.05 0 2.83L4 21.41c.39.39.9.59 1.41.59.51 0 1.02-.2 1.41-.59l7.78-7.78 2.81-2.81c.8-.78.8-2.07 0-2.86zM5.41 20L4 18.59l7.72-7.72 1.47 1.35L5.41 20z\"/>\n",
              "  </svg>\n",
              "      </button>\n",
              "      \n",
              "  <style>\n",
              "    .colab-df-container {\n",
              "      display:flex;\n",
              "      flex-wrap:wrap;\n",
              "      gap: 12px;\n",
              "    }\n",
              "\n",
              "    .colab-df-convert {\n",
              "      background-color: #E8F0FE;\n",
              "      border: none;\n",
              "      border-radius: 50%;\n",
              "      cursor: pointer;\n",
              "      display: none;\n",
              "      fill: #1967D2;\n",
              "      height: 32px;\n",
              "      padding: 0 0 0 0;\n",
              "      width: 32px;\n",
              "    }\n",
              "\n",
              "    .colab-df-convert:hover {\n",
              "      background-color: #E2EBFA;\n",
              "      box-shadow: 0px 1px 2px rgba(60, 64, 67, 0.3), 0px 1px 3px 1px rgba(60, 64, 67, 0.15);\n",
              "      fill: #174EA6;\n",
              "    }\n",
              "\n",
              "    [theme=dark] .colab-df-convert {\n",
              "      background-color: #3B4455;\n",
              "      fill: #D2E3FC;\n",
              "    }\n",
              "\n",
              "    [theme=dark] .colab-df-convert:hover {\n",
              "      background-color: #434B5C;\n",
              "      box-shadow: 0px 1px 3px 1px rgba(0, 0, 0, 0.15);\n",
              "      filter: drop-shadow(0px 1px 2px rgba(0, 0, 0, 0.3));\n",
              "      fill: #FFFFFF;\n",
              "    }\n",
              "  </style>\n",
              "\n",
              "      <script>\n",
              "        const buttonEl =\n",
              "          document.querySelector('#df-a8d7401c-ae23-4ab9-bfc8-5b58a9b685bf button.colab-df-convert');\n",
              "        buttonEl.style.display =\n",
              "          google.colab.kernel.accessAllowed ? 'block' : 'none';\n",
              "\n",
              "        async function convertToInteractive(key) {\n",
              "          const element = document.querySelector('#df-a8d7401c-ae23-4ab9-bfc8-5b58a9b685bf');\n",
              "          const dataTable =\n",
              "            await google.colab.kernel.invokeFunction('convertToInteractive',\n",
              "                                                     [key], {});\n",
              "          if (!dataTable) return;\n",
              "\n",
              "          const docLinkHtml = 'Like what you see? Visit the ' +\n",
              "            '<a target=\"_blank\" href=https://colab.research.google.com/notebooks/data_table.ipynb>data table notebook</a>'\n",
              "            + ' to learn more about interactive tables.';\n",
              "          element.innerHTML = '';\n",
              "          dataTable['output_type'] = 'display_data';\n",
              "          await google.colab.output.renderOutput(dataTable, element);\n",
              "          const docLink = document.createElement('div');\n",
              "          docLink.innerHTML = docLinkHtml;\n",
              "          element.appendChild(docLink);\n",
              "        }\n",
              "      </script>\n",
              "    </div>\n",
              "  </div>\n",
              "  "
            ]
          },
          "metadata": {},
          "execution_count": 4
        }
      ]
    },
    {
      "cell_type": "markdown",
      "source": [
        "* p_ages_ma_fem = \\[ P(20대 남자), P(30대 남자), ......, P(60대 여자), P(70대 여자) \\]"
      ],
      "metadata": {
        "id": "99kF1OyYIkpZ"
      }
    },
    {
      "cell_type": "code",
      "source": [
        "num_ages_ma_fem = np.array([3484532, 3421613, 4033129, 4181246, 3161280, 1620676, 3132015, 3205432, 3920496, 4156357, 3319710, 1982058])\n",
        "p_ages_ma_fem = num_ages_ma_fem/50133493"
      ],
      "metadata": {
        "id": "8qQH-t4glw0c"
      },
      "execution_count": 5,
      "outputs": []
    },
    {
      "cell_type": "code",
      "source": [
        "# 엘페이이용_통합\n",
        "buy_data3 = pd.merge(data6, data1, on='cust', how='left')"
      ],
      "metadata": {
        "id": "0UFgOLbB8_SR"
      },
      "execution_count": 7,
      "outputs": []
    },
    {
      "cell_type": "code",
      "source": [
        "# 상품구매정보_통합(data2)\n",
        "buy_data2 = pd.merge(data2, data1, on='cust', how='left')\n",
        "buy_data2 = pd.merge(buy_data2, data4, on='pd_c', how='left')\n",
        "buy_data2 = pd.merge(buy_data2, data5, on='br_c', how='left')"
      ],
      "metadata": {
        "id": "hWpM3E4iEDwz"
      },
      "execution_count": 8,
      "outputs": []
    },
    {
      "cell_type": "code",
      "source": [
        "# 남성 여성 // 20대 ~ 70대 "
      ],
      "metadata": {
        "id": "sX1jk1DJ9N4a"
      },
      "execution_count": 9,
      "outputs": []
    },
    {
      "cell_type": "markdown",
      "source": [
        "* Lpay_p_lst = \\[ P(20대 남자 | Lpay이용자), P(30대 남자 | Lpay이용자), ............  , P(60대 여자 | Lpay이용자), P(70대 여자 | Lpay이용자) \\]      \n",
        "     \n",
        "* 이때 bayesian rule을 이용하여 P(Lpay이용자 | 20대 남자), P(Lpay이용자 | 30대 남자)....... 를 계산함.       \n",
        " P(Lpay이용자)는 전부 동일하므로 P(20대 남자 | Lpay이용자)/P(20대 남자), P(30대 남자 | Lpay이용자)/P(30대 남자)...... 만 계산. "
      ],
      "metadata": {
        "id": "bq3PgjjIEt0k"
      }
    },
    {
      "cell_type": "code",
      "source": [
        "#20대 남성\n",
        "male20_Lpay = buy_data3[(buy_data3['ma_fem_dv']=='남성') & (buy_data3['ages']=='20대')]\n",
        "#30대 남성\n",
        "male30_Lpay = buy_data3[(buy_data3['ma_fem_dv']=='남성') & (buy_data3['ages']=='30대')]\n",
        "#40대 남성\n",
        "male40_Lpay = buy_data3[(buy_data3['ma_fem_dv']=='남성') & (buy_data3['ages']=='40대')]\n",
        "#50대 남성\n",
        "male50_Lpay = buy_data3[(buy_data3['ma_fem_dv']=='남성') & (buy_data3['ages']=='50대')]\n",
        "#60대 남성\n",
        "male60_Lpay = buy_data3[(buy_data3['ma_fem_dv']=='남성') & (buy_data3['ages']=='60대')]\n",
        "#70대 남성\n",
        "male70_Lpay = buy_data3[(buy_data3['ma_fem_dv']=='남성') & (buy_data3['ages']=='70대')]\n",
        "\n",
        "#20대 여성\n",
        "female20_Lpay = buy_data3[(buy_data3['ma_fem_dv']=='여성') & (buy_data3['ages']=='20대')]\n",
        "#30대 여성\n",
        "female30_Lpay = buy_data3[(buy_data3['ma_fem_dv']=='여성') & (buy_data3['ages']=='30대')]\n",
        "#40대 여성\n",
        "female40_Lpay = buy_data3[(buy_data3['ma_fem_dv']=='여성') & (buy_data3['ages']=='40대')]\n",
        "#50대 여성\n",
        "female50_Lpay = buy_data3[(buy_data3['ma_fem_dv']=='여성') & (buy_data3['ages']=='50대')]\n",
        "#60대 여성\n",
        "female60_Lpay = buy_data3[(buy_data3['ma_fem_dv']=='여성') & (buy_data3['ages']=='60대')]\n",
        "#70대 여성\n",
        "female70_Lpay = buy_data3[(buy_data3['ma_fem_dv']=='여성') & (buy_data3['ages']=='70대')]\n",
        "name_lst = ['20대 남자', '30대 남자', '40대 남자', '50대 남자', '60대 남자', '70대 남자', '20대 여자', '30대 여자', '40대 여자', '50대 여자', '60대 여자', '70대 여자']\n",
        "num_lst = np.array([len(male20_Lpay), len(male30_Lpay), len(male40_Lpay), len(male50_Lpay), len(male60_Lpay), len(male70_Lpay), len(female20_Lpay), len(female30_Lpay), len(female40_Lpay), len(female50_Lpay), len(female60_Lpay), len(female70_Lpay)])\n",
        "Lpay_p_lst = num_lst/sum(num_lst)\n",
        "Lpay_posterior_lst = num_lst/p_ages_ma_fem\n",
        "Lpay_posterior_lst = Lpay_posterior_lst / np.sum(Lpay_posterior_lst)"
      ],
      "metadata": {
        "id": "g1j0hTFc9ic1"
      },
      "execution_count": 10,
      "outputs": []
    },
    {
      "cell_type": "markdown",
      "source": [
        "* 각 연령,성별 별로 제품 구입 빈도를 바탕으로 각 제품 구입 확률 계산. \n",
        "* 구입횟수가 5회 이하인 제품은 목록에서 제외\n",
        "* buy_p_lst = \\[ 20대 남자 특정 물품 구입확률, 30대 남자 특정 물품 구입 확률, ....., 60대 여자 특정 물품 구입확률, 70대 여자 특정 물품 구입확률 \\]"
      ],
      "metadata": {
        "id": "2QIfqzG6NCMK"
      }
    },
    {
      "cell_type": "code",
      "source": [
        "#20대 남성\n",
        "male20_buy = buy_data2[(buy_data2['ma_fem_dv']=='남성') & (buy_data2['ages']=='20대')]\n",
        "#30대 남성\n",
        "male30_buy = buy_data2[(buy_data2['ma_fem_dv']=='남성') & (buy_data2['ages']=='30대')]\n",
        "#40대 남성\n",
        "male40_buy = buy_data2[(buy_data2['ma_fem_dv']=='남성') & (buy_data2['ages']=='40대')]\n",
        "#50대 남성\n",
        "male50_buy = buy_data2[(buy_data2['ma_fem_dv']=='남성') & (buy_data2['ages']=='50대')]\n",
        "#60대 남성\n",
        "male60_buy = buy_data2[(buy_data2['ma_fem_dv']=='남성') & (buy_data2['ages']=='60대')]\n",
        "#70대 남성\n",
        "male70_buy = buy_data2[(buy_data2['ma_fem_dv']=='남성') & (buy_data2['ages']=='70대')]\n",
        "\n",
        "#20대 여성\n",
        "female20_buy = buy_data2[(buy_data2['ma_fem_dv']=='여성') & (buy_data2['ages']=='20대')]\n",
        "#30대 여성\n",
        "female30_buy = buy_data2[(buy_data2['ma_fem_dv']=='여성') & (buy_data2['ages']=='30대')]\n",
        "#40대 여성\n",
        "female40_buy = buy_data2[(buy_data2['ma_fem_dv']=='여성') & (buy_data2['ages']=='40대')]\n",
        "#50대 여성\n",
        "female50_buy = buy_data2[(buy_data2['ma_fem_dv']=='여성') & (buy_data2['ages']=='50대')]\n",
        "#60대 여성\n",
        "female60_buy = buy_data2[(buy_data2['ma_fem_dv']=='여성') & (buy_data2['ages']=='60대')]\n",
        "#70대 여성\n",
        "female70_buy = buy_data2[(buy_data2['ma_fem_dv']=='여성') & (buy_data2['ages']=='70대')]\n",
        "\n",
        "buy_lst = [male20_buy, male30_buy, male40_buy, male50_buy, male60_buy, male70_buy, female20_buy, female30_buy, female40_buy, female50_buy, female60_buy, female70_buy]\n",
        "buy_cnt_lst = []\n",
        "for buy_items in buy_lst:\n",
        "    indexx = buy_items.groupby('pd_c').size() > 5\n",
        "    buy_cnt_lst.append(buy_items.groupby('pd_c').size()[indexx])\n",
        "\n",
        "buy_p_lst = []\n",
        "for buy_cnts in buy_cnt_lst:\n",
        "    buy_p_lst.append(buy_cnts/buy_cnts.sum())\n"
      ],
      "metadata": {
        "id": "aHGJCVe-D8sd"
      },
      "execution_count": 11,
      "outputs": []
    },
    {
      "cell_type": "markdown",
      "source": [
        "* 각 성별 연령별 Lpay사용 확률을 기반으로 np.random.choice를 이용하여 특성 성별,연령층 선택.    \n",
        "* 특정 성별, 연령층에 대해서 특정 제품을 구입한 빈도를 바당으로 np.random.choice를 이용하여 많이 구매한 물품 선택.\n",
        "\n"
      ],
      "metadata": {
        "id": "udJwAAxnLhU2"
      }
    },
    {
      "cell_type": "code",
      "source": [
        "def recommand_product(Lpay_posterior_lst, buy_p_lst, name_lst):\n",
        "    customer_base_idx = np.random.choice(range(len(Lpay_posterior_lst)), p = Lpay_posterior_lst)\n",
        "    customer_base = name_lst[customer_base_idx]\n",
        "    product_code_lst = buy_p_lst[customer_base_idx].index\n",
        "    product_p_lst = buy_p_lst[customer_base_idx].values\n",
        "    product = np.random.choice(product_code_lst, p=product_p_lst)\n",
        "    print(f'선택된 고객층: {customer_base}, 선택된 상품: {product}')\n",
        "    return customer_base, product"
      ],
      "metadata": {
        "id": "_ejcLZSsJsnB"
      },
      "execution_count": 12,
      "outputs": []
    },
    {
      "cell_type": "markdown",
      "source": [
        "* recommand_product 함수를 여러번 호출하여 광고에 사용할 물품 선택"
      ],
      "metadata": {
        "id": "9VBPayyOPIN5"
      }
    },
    {
      "cell_type": "code",
      "source": [
        "for i in range(10):\n",
        "    recommand_product(Lpay_p_lst, buy_p_lst, name_lst)"
      ],
      "metadata": {
        "colab": {
          "base_uri": "https://localhost:8080/"
        },
        "id": "mn4dkbSeOVlu",
        "outputId": "d9fc12ee-0567-49cc-a21c-e62b56ba8397"
      },
      "execution_count": 13,
      "outputs": [
        {
          "output_type": "stream",
          "name": "stdout",
          "text": [
            "선택된 고객층: 30대 남자, 선택된 상품: PD0171\n",
            "선택된 고객층: 40대 여자, 선택된 상품: PD0178\n",
            "선택된 고객층: 30대 여자, 선택된 상품: PD1156\n",
            "선택된 고객층: 50대 남자, 선택된 상품: PD1182\n",
            "선택된 고객층: 50대 여자, 선택된 상품: PD1352\n",
            "선택된 고객층: 30대 여자, 선택된 상품: PD1387\n",
            "선택된 고객층: 40대 여자, 선택된 상품: PD0480\n",
            "선택된 고객층: 40대 남자, 선택된 상품: PD1314\n",
            "선택된 고객층: 30대 여자, 선택된 상품: PD1155\n",
            "선택된 고객층: 30대 여자, 선택된 상품: PD1154\n"
          ]
        }
      ]
    },
    {
      "cell_type": "code",
      "source": [
        ""
      ],
      "metadata": {
        "id": "SzCp-JTJP0lA"
      },
      "execution_count": null,
      "outputs": []
    }
  ]
}