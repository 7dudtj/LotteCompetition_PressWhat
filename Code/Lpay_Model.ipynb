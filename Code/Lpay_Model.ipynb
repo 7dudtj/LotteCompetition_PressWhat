{
  "nbformat": 4,
  "nbformat_minor": 0,
  "metadata": {
    "colab": {
      "name": "Lpay_Model.ipynb",
      "provenance": []
    },
    "kernelspec": {
      "name": "python3",
      "display_name": "Python 3"
    },
    "language_info": {
      "name": "python"
    }
  },
  "cells": [
    {
      "cell_type": "code",
      "execution_count": 1,
      "metadata": {
        "id": "kUX1y0ys3E9a"
      },
      "outputs": [],
      "source": [
        "import pandas as pd\n",
        "import numpy as np"
      ]
    },
    {
      "cell_type": "code",
      "source": [
        "# read data\n",
        "data1 = pd.read_csv(\"./drive/MyDrive/LPOINT_BIG_COMP_01_DEMO.csv\")   # cust 고객번호 ma_fem_dv 성별 ages 나이 zon_hlv 거주지코드\n",
        "data2 = pd.read_csv(\"./drive/MyDrive/LPOINT_BIG_COMP_02_PDDE.csv\")   # cust 고객번호 rct_no 영수증번호 chnl_dv 채널구분 cop_c 제휴사코드 br_c 점포코드 pd_c 상품코드 de_dt 거래일 de_hr 거래시간 buy_am 구매가격 buy_ct 구매개수\n",
        "data4 = pd.read_csv(\"./drive/MyDrive/LPOINT_BIG_COMP_04_PD_CLAC.csv\")# pd_c 상품번호 pd_nm 상품명 clac_hlv_nm 카테고리 clac_mcls_nm 세부카테고리 \n",
        "data5 = pd.read_csv(\"./drive/MyDrive/LPOINT_BIG_COMP_05_BR.csv\")     # br_c 점포번호 cop_c 제휴사 코드 zon_hlv 카테고리 zon_mcls 세부카테고리\n",
        "data6 = pd.read_csv(\"./drive/MyDrive/LPOINT_BIG_COMP_06_LPAY.csv\")   # rct_no 영수증 번호 cop_c 제휴사코드 chnl_dv 채널구분 de_dt 구매일 de_hr 구매시간 buy_am 결제금액"
      ],
      "metadata": {
        "colab": {
          "base_uri": "https://localhost:8080/"
        },
        "id": "4eaZae5l3UG4",
        "outputId": "976ef7a1-3750-41fd-a661-9e82645ce845"
      },
      "execution_count": 2,
      "outputs": [
        {
          "output_type": "stream",
          "name": "stderr",
          "text": [
            "/usr/local/lib/python3.7/dist-packages/IPython/core/interactiveshell.py:2882: DtypeWarning: Columns (4) have mixed types.Specify dtype option on import or set low_memory=False.\n",
            "  exec(code_obj, self.user_global_ns, self.user_ns)\n"
          ]
        }
      ]
    },
    {
      "cell_type": "code",
      "source": [
        "# 엘페이이용_통합\n",
        "buy_data3 = pd.merge(data6, data1, on='cust', how='left')"
      ],
      "metadata": {
        "id": "0UFgOLbB8_SR"
      },
      "execution_count": 3,
      "outputs": []
    },
    {
      "cell_type": "code",
      "source": [
        "# 상품구매정보_통합(data2)\n",
        "buy_data2 = pd.merge(data2, data1, on='cust', how='left')\n",
        "buy_data2 = pd.merge(buy_data2, data4, on='pd_c', how='left')\n",
        "buy_data2 = pd.merge(buy_data2, data5, on='br_c', how='left')"
      ],
      "metadata": {
        "id": "hWpM3E4iEDwz"
      },
      "execution_count": 4,
      "outputs": []
    },
    {
      "cell_type": "code",
      "source": [
        "# 남성 여성 // 20대 ~ 70대 "
      ],
      "metadata": {
        "id": "sX1jk1DJ9N4a"
      },
      "execution_count": 5,
      "outputs": []
    },
    {
      "cell_type": "code",
      "source": [
        "#20대 남성\n",
        "male20_Lpay = buy_data3[(buy_data3['ma_fem_dv']=='남성') & (buy_data3['ages']=='20대')]\n",
        "#30대 남성\n",
        "male30_Lpay = buy_data3[(buy_data3['ma_fem_dv']=='남성') & (buy_data3['ages']=='30대')]\n",
        "#40대 남성\n",
        "male40_Lpay = buy_data3[(buy_data3['ma_fem_dv']=='남성') & (buy_data3['ages']=='40대')]\n",
        "#50대 남성\n",
        "male50_Lpay = buy_data3[(buy_data3['ma_fem_dv']=='남성') & (buy_data3['ages']=='50대')]\n",
        "#60대 남성\n",
        "male60_Lpay = buy_data3[(buy_data3['ma_fem_dv']=='남성') & (buy_data3['ages']=='60대')]\n",
        "#70대 남성\n",
        "male70_Lpay = buy_data3[(buy_data3['ma_fem_dv']=='남성') & (buy_data3['ages']=='70대')]\n",
        "\n",
        "#20대 여성\n",
        "female20_Lpay = buy_data3[(buy_data3['ma_fem_dv']=='여성') & (buy_data3['ages']=='20대')]\n",
        "#30대 여성\n",
        "female30_Lpay = buy_data3[(buy_data3['ma_fem_dv']=='여성') & (buy_data3['ages']=='30대')]\n",
        "#40대 여성\n",
        "female40_Lpay = buy_data3[(buy_data3['ma_fem_dv']=='여성') & (buy_data3['ages']=='40대')]\n",
        "#50대 여성\n",
        "female50_Lpay = buy_data3[(buy_data3['ma_fem_dv']=='여성') & (buy_data3['ages']=='50대')]\n",
        "#60대 여성\n",
        "female60_Lpay = buy_data3[(buy_data3['ma_fem_dv']=='여성') & (buy_data3['ages']=='60대')]\n",
        "#70대 여성\n",
        "female70_Lpay = buy_data3[(buy_data3['ma_fem_dv']=='여성') & (buy_data3['ages']=='70대')]\n",
        "name_lst = ['20대 남자', '30대 남자', '40대 남자', '50대 남자', '60대 남자', '70대 남자', '20대 여자', '30대 여자', '40대 여자', '50대 여자', '60대 여자', '70대 여자']\n",
        "num_lst = np.array([len(male20_Lpay), len(male30_Lpay), len(male40_Lpay), len(male50_Lpay), len(male60_Lpay), len(male70_Lpay), len(female20_Lpay), len(female30_Lpay), len(female40_Lpay), len(female50_Lpay), len(female60_Lpay), len(female70_Lpay)])\n",
        "Lpay_p_lst = num_lst/sum(num_lst)"
      ],
      "metadata": {
        "id": "g1j0hTFc9ic1"
      },
      "execution_count": 62,
      "outputs": []
    },
    {
      "cell_type": "code",
      "source": [
        "#20대 남성\n",
        "male20_buy = buy_data2[(buy_data2['ma_fem_dv']=='남성') & (buy_data2['ages']=='20대')]\n",
        "#30대 남성\n",
        "male30_buy = buy_data2[(buy_data2['ma_fem_dv']=='남성') & (buy_data2['ages']=='30대')]\n",
        "#40대 남성\n",
        "male40_buy = buy_data2[(buy_data2['ma_fem_dv']=='남성') & (buy_data2['ages']=='40대')]\n",
        "#50대 남성\n",
        "male50_buy = buy_data2[(buy_data2['ma_fem_dv']=='남성') & (buy_data2['ages']=='50대')]\n",
        "#60대 남성\n",
        "male60_buy = buy_data2[(buy_data2['ma_fem_dv']=='남성') & (buy_data2['ages']=='60대')]\n",
        "#70대 남성\n",
        "male70_buy = buy_data2[(buy_data2['ma_fem_dv']=='남성') & (buy_data2['ages']=='70대')]\n",
        "\n",
        "#20대 여성\n",
        "female20_buy = buy_data2[(buy_data2['ma_fem_dv']=='여성') & (buy_data2['ages']=='20대')]\n",
        "#30대 여성\n",
        "female30_buy = buy_data2[(buy_data2['ma_fem_dv']=='여성') & (buy_data2['ages']=='30대')]\n",
        "#40대 여성\n",
        "female40_buy = buy_data2[(buy_data2['ma_fem_dv']=='여성') & (buy_data2['ages']=='40대')]\n",
        "#50대 여성\n",
        "female50_buy = buy_data2[(buy_data2['ma_fem_dv']=='여성') & (buy_data2['ages']=='50대')]\n",
        "#60대 여성\n",
        "female60_buy = buy_data2[(buy_data2['ma_fem_dv']=='여성') & (buy_data2['ages']=='60대')]\n",
        "#70대 여성\n",
        "female70_buy = buy_data2[(buy_data2['ma_fem_dv']=='여성') & (buy_data2['ages']=='70대')]\n",
        "\n",
        "buy_lst = [male20_buy, male30_buy, male40_buy, male50_buy, male60_buy, male70_buy, female20_buy, female30_buy, female40_buy, female50_buy, female60_buy, female70_buy]\n",
        "buy_cnt_lst = []\n",
        "for buy_items in buy_lst:\n",
        "    indexx = buy_items.groupby('pd_c').size() > 5\n",
        "    buy_cnt_lst.append(buy_items.groupby('pd_c').size()[indexx])\n",
        "\n",
        "buy_p_lst = []\n",
        "for buy_cnts in buy_cnt_lst:\n",
        "    buy_p_lst.append(buy_cnts/buy_cnts.sum())\n"
      ],
      "metadata": {
        "id": "aHGJCVe-D8sd"
      },
      "execution_count": 63,
      "outputs": []
    },
    {
      "cell_type": "code",
      "source": [
        "def recommand_product(Lpay_p_lst, buy_p_lst, name_lst):\n",
        "    customer_base_idx = np.random.choice(range(len(Lpay_p_lst)), p = Lpay_p_lst)\n",
        "    customer_base = name_lst[customer_base_idx]\n",
        "    product_code_lst = buy_p_lst[customer_base_idx].index\n",
        "    product_p_lst = buy_p_lst[customer_base_idx].values\n",
        "    product = np.random.choice(product_code_lst, p=product_p_lst)\n",
        "    print(f'선택된 고객층: {customer_base}, 선택된 상품: {product}')\n",
        "    return customer_base, product"
      ],
      "metadata": {
        "id": "_ejcLZSsJsnB"
      },
      "execution_count": 82,
      "outputs": []
    },
    {
      "cell_type": "code",
      "source": [
        "for i in range(10):\n",
        "    recommand_product(Lpay_p_lst, buy_p_lst, name_lst)"
      ],
      "metadata": {
        "colab": {
          "base_uri": "https://localhost:8080/"
        },
        "id": "mn4dkbSeOVlu",
        "outputId": "7d2732ce-dfc6-44de-bd44-0a7bf4bed957"
      },
      "execution_count": 84,
      "outputs": [
        {
          "output_type": "stream",
          "name": "stdout",
          "text": [
            "선택된 고객층: 40대 여자, 선택된 상품: PD0290\n",
            "선택된 고객층: 50대 여자, 선택된 상품: PD1694\n",
            "선택된 고객층: 30대 남자, 선택된 상품: PD0748\n",
            "선택된 고객층: 30대 남자, 선택된 상품: PD1689\n",
            "선택된 고객층: 40대 여자, 선택된 상품: PD1156\n",
            "선택된 고객층: 30대 남자, 선택된 상품: PD0228\n",
            "선택된 고객층: 40대 남자, 선택된 상품: PD1184\n",
            "선택된 고객층: 30대 남자, 선택된 상품: PD1173\n",
            "선택된 고객층: 30대 여자, 선택된 상품: PD1148\n",
            "선택된 고객층: 40대 여자, 선택된 상품: PD0359\n"
          ]
        }
      ]
    },
    {
      "cell_type": "code",
      "source": [
        ""
      ],
      "metadata": {
        "id": "SzCp-JTJP0lA"
      },
      "execution_count": null,
      "outputs": []
    }
  ]
}