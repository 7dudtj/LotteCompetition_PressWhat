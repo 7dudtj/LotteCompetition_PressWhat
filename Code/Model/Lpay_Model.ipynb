{
  "cells": [
    {
      "cell_type": "code",
      "execution_count": 1,
      "metadata": {
        "id": "kUX1y0ys3E9a"
      },
      "outputs": [],
      "source": [
        "# import libraries\n",
        "import pandas as pd\n",
        "import numpy as np"
      ]
    },
    {
      "cell_type": "code",
      "execution_count": null,
      "metadata": {
        "colab": {
          "base_uri": "https://localhost:8080/"
        },
        "id": "4eaZae5l3UG4",
        "outputId": "4e3016e3-5a18-4b0b-8840-763e167858fe"
      },
      "outputs": [],
      "source": [
        "# read data\n",
        "data1 = pd.read_csv(\"./drive/MyDrive/LPOINT_BIG_COMP_01_DEMO.csv\")   # cust 고객번호 ma_fem_dv 성별 ages 나이 zon_hlv 거주지코드\n",
        "data2 = pd.read_csv(\"./drive/MyDrive/LPOINT_BIG_COMP_02_PDDE.csv\")   # cust 고객번호 rct_no 영수증번호 chnl_dv 채널구분 cop_c 제휴사코드 br_c 점포코드 pd_c 상품코드 de_dt 거래일 de_hr 거래시간 buy_am 구매가격 buy_ct 구매개수\n",
        "data4 = pd.read_csv(\"./drive/MyDrive/LPOINT_BIG_COMP_04_PD_CLAC.csv\")# pd_c 상품번호 pd_nm 상품명 clac_hlv_nm 카테고리 clac_mcls_nm 세부카테고리 \n",
        "data5 = pd.read_csv(\"./drive/MyDrive/LPOINT_BIG_COMP_05_BR.csv\")     # br_c 점포번호 cop_c 제휴사 코드 zon_hlv 카테고리 zon_mcls 세부카테고리\n",
        "data6 = pd.read_csv(\"./drive/MyDrive/LPOINT_BIG_COMP_06_LPAY.csv\")   # rct_no 영수증 번호 cop_c 제휴사코드 chnl_dv 채널구분 de_dt 구매일 de_hr 구매시간 buy_am 결제금액\n",
        "data7 = pd.read_csv(\"./drive/MyDrive/총조사인구_성_연령별__20220808171442.csv\", encoding='cp949')  # https://gsis.kwdi.re.kr/statHtml/statHtml.do?orgId=338&tblId=DT_1IN0503"
      ]
    },
    {
      "cell_type": "markdown",
      "metadata": {
        "id": "99kF1OyYIkpZ"
      },
      "source": [
        "* p_ages_ma_fem = \\[ P(20대 남자), P(30대 남자), ......, P(60대 여자), P(70대 여자) \\]"
      ]
    },
    {
      "cell_type": "code",
      "execution_count": null,
      "metadata": {
        "id": "8qQH-t4glw0c"
      },
      "outputs": [],
      "source": [
        "# p_ages_ma_fem 계산\n",
        "num_ages_ma_fem = np.array([3484532, 3421613, 4033129, 4181246, 3161280, 1620676, 3132015, 3205432, 3920496, 4156357, 3319710, 1982058])\n",
        "p_ages_ma_fem = num_ages_ma_fem/50133493"
      ]
    },
    {
      "cell_type": "code",
      "execution_count": null,
      "metadata": {
        "id": "0UFgOLbB8_SR"
      },
      "outputs": [],
      "source": [
        "# 엘페이이용_통합\n",
        "buy_data3 = pd.merge(data6, data1, on='cust', how='left')"
      ]
    },
    {
      "cell_type": "code",
      "execution_count": null,
      "metadata": {
        "id": "hWpM3E4iEDwz"
      },
      "outputs": [],
      "source": [
        "# 상품구매정보_통합(data2)\n",
        "buy_data2 = pd.merge(data2, data1, on='cust', how='left')\n",
        "buy_data2 = pd.merge(buy_data2, data4, on='pd_c', how='left')\n",
        "buy_data2 = pd.merge(buy_data2, data5, on='br_c', how='left')"
      ]
    },
    {
      "cell_type": "code",
      "execution_count": null,
      "metadata": {
        "id": "sX1jk1DJ9N4a"
      },
      "outputs": [],
      "source": [
        "# 남성 여성 // 20대 ~ 70대 "
      ]
    },
    {
      "cell_type": "markdown",
      "metadata": {
        "id": "bq3PgjjIEt0k"
      },
      "source": [
        "* Lpay_p_lst = \\[ P(20대 남자 | Lpay이용자), P(30대 남자 | Lpay이용자), ............  , P(60대 여자 | Lpay이용자), P(70대 여자 | Lpay이용자) \\]      \n",
        "     \n",
        "* 이때 bayesian rule을 이용하여 P(Lpay이용자 | 20대 남자), P(Lpay이용자 | 30대 남자)....... 를 계산함.       \n",
        " P(Lpay이용자)는 전부 동일하므로 P(20대 남자 | Lpay이용자)/P(20대 남자), P(30대 남자 | Lpay이용자)/P(30대 남자)...... 만 계산. "
      ]
    },
    {
      "cell_type": "code",
      "execution_count": null,
      "metadata": {
        "id": "g1j0hTFc9ic1"
      },
      "outputs": [],
      "source": [
        "#20대 남성\n",
        "male20_Lpay = buy_data3[(buy_data3['ma_fem_dv']=='남성') & (buy_data3['ages']=='20대')]\n",
        "#30대 남성\n",
        "male30_Lpay = buy_data3[(buy_data3['ma_fem_dv']=='남성') & (buy_data3['ages']=='30대')]\n",
        "#40대 남성\n",
        "male40_Lpay = buy_data3[(buy_data3['ma_fem_dv']=='남성') & (buy_data3['ages']=='40대')]\n",
        "#50대 남성\n",
        "male50_Lpay = buy_data3[(buy_data3['ma_fem_dv']=='남성') & (buy_data3['ages']=='50대')]\n",
        "#60대 남성\n",
        "male60_Lpay = buy_data3[(buy_data3['ma_fem_dv']=='남성') & (buy_data3['ages']=='60대')]\n",
        "#70대 남성\n",
        "male70_Lpay = buy_data3[(buy_data3['ma_fem_dv']=='남성') & (buy_data3['ages']=='70대')]\n",
        "\n",
        "#20대 여성\n",
        "female20_Lpay = buy_data3[(buy_data3['ma_fem_dv']=='여성') & (buy_data3['ages']=='20대')]\n",
        "#30대 여성\n",
        "female30_Lpay = buy_data3[(buy_data3['ma_fem_dv']=='여성') & (buy_data3['ages']=='30대')]\n",
        "#40대 여성\n",
        "female40_Lpay = buy_data3[(buy_data3['ma_fem_dv']=='여성') & (buy_data3['ages']=='40대')]\n",
        "#50대 여성\n",
        "female50_Lpay = buy_data3[(buy_data3['ma_fem_dv']=='여성') & (buy_data3['ages']=='50대')]\n",
        "#60대 여성\n",
        "female60_Lpay = buy_data3[(buy_data3['ma_fem_dv']=='여성') & (buy_data3['ages']=='60대')]\n",
        "#70대 여성\n",
        "female70_Lpay = buy_data3[(buy_data3['ma_fem_dv']=='여성') & (buy_data3['ages']=='70대')]\n",
        "name_lst = ['20대 남자', '30대 남자', '40대 남자', '50대 남자', '60대 남자', '70대 남자', '20대 여자', '30대 여자', '40대 여자', '50대 여자', '60대 여자', '70대 여자']\n",
        "num_lst = np.array([len(male20_Lpay), len(male30_Lpay), len(male40_Lpay), len(male50_Lpay), len(male60_Lpay), len(male70_Lpay), len(female20_Lpay), len(female30_Lpay), len(female40_Lpay), len(female50_Lpay), len(female60_Lpay), len(female70_Lpay)])\n",
        "Lpay_p_lst = num_lst/sum(num_lst)\n",
        "Lpay_posterior_lst = num_lst/p_ages_ma_fem\n",
        "Lpay_posterior_lst = Lpay_posterior_lst / np.sum(Lpay_posterior_lst)"
      ]
    },
    {
      "cell_type": "markdown",
      "metadata": {
        "id": "2QIfqzG6NCMK"
      },
      "source": [
        "* 각 연령,성별 별로 제품 구입 빈도를 바탕으로 각 제품 구입 확률 계산. \n",
        "* 구입횟수가 5회 이하인 제품은 목록에서 제외\n",
        "* buy_p_lst = \\[ 20대 남자 특정 물품 구입확률, 30대 남자 특정 물품 구입 확률, ....., 60대 여자 특정 물품 구입확률, 70대 여자 특정 물품 구입확률 \\]"
      ]
    },
    {
      "cell_type": "code",
      "execution_count": null,
      "metadata": {
        "id": "aHGJCVe-D8sd"
      },
      "outputs": [],
      "source": [
        "#20대 남성\n",
        "male20_buy = buy_data2[(buy_data2['ma_fem_dv']=='남성') & (buy_data2['ages']=='20대')]\n",
        "#30대 남성\n",
        "male30_buy = buy_data2[(buy_data2['ma_fem_dv']=='남성') & (buy_data2['ages']=='30대')]\n",
        "#40대 남성\n",
        "male40_buy = buy_data2[(buy_data2['ma_fem_dv']=='남성') & (buy_data2['ages']=='40대')]\n",
        "#50대 남성\n",
        "male50_buy = buy_data2[(buy_data2['ma_fem_dv']=='남성') & (buy_data2['ages']=='50대')]\n",
        "#60대 남성\n",
        "male60_buy = buy_data2[(buy_data2['ma_fem_dv']=='남성') & (buy_data2['ages']=='60대')]\n",
        "#70대 남성\n",
        "male70_buy = buy_data2[(buy_data2['ma_fem_dv']=='남성') & (buy_data2['ages']=='70대')]\n",
        "\n",
        "#20대 여성\n",
        "female20_buy = buy_data2[(buy_data2['ma_fem_dv']=='여성') & (buy_data2['ages']=='20대')]\n",
        "#30대 여성\n",
        "female30_buy = buy_data2[(buy_data2['ma_fem_dv']=='여성') & (buy_data2['ages']=='30대')]\n",
        "#40대 여성\n",
        "female40_buy = buy_data2[(buy_data2['ma_fem_dv']=='여성') & (buy_data2['ages']=='40대')]\n",
        "#50대 여성\n",
        "female50_buy = buy_data2[(buy_data2['ma_fem_dv']=='여성') & (buy_data2['ages']=='50대')]\n",
        "#60대 여성\n",
        "female60_buy = buy_data2[(buy_data2['ma_fem_dv']=='여성') & (buy_data2['ages']=='60대')]\n",
        "#70대 여성\n",
        "female70_buy = buy_data2[(buy_data2['ma_fem_dv']=='여성') & (buy_data2['ages']=='70대')]\n",
        "\n",
        "buy_lst = [male20_buy, male30_buy, male40_buy, male50_buy, male60_buy, male70_buy, female20_buy, female30_buy, female40_buy, female50_buy, female60_buy, female70_buy]\n",
        "buy_cnt_lst = []\n",
        "for buy_items in buy_lst:\n",
        "    indexx = buy_items.groupby('pd_c').size() > 5\n",
        "    buy_cnt_lst.append(buy_items.groupby('pd_c').size()[indexx])\n",
        "\n",
        "buy_p_lst = []\n",
        "for buy_cnts in buy_cnt_lst:\n",
        "    buy_p_lst.append(buy_cnts/buy_cnts.sum())\n"
      ]
    },
    {
      "cell_type": "markdown",
      "metadata": {
        "id": "udJwAAxnLhU2"
      },
      "source": [
        "* 각 성별 연령별 Lpay사용 확률을 기반으로 np.random.choice를 이용하여 특성 성별,연령층 선택.    \n",
        "* 특정 성별, 연령층에 대해서 특정 제품을 구입한 빈도를 바당으로 np.random.choice를 이용하여 많이 구매한 물품 선택.\n",
        "\n"
      ]
    },
    {
      "cell_type": "code",
      "execution_count": null,
      "metadata": {
        "id": "_ejcLZSsJsnB"
      },
      "outputs": [],
      "source": [
        "def recommand_product(Lpay_posterior_lst, buy_p_lst, name_lst, product_table):\n",
        "    customer_base_idx = np.random.choice(range(len(Lpay_posterior_lst)), p = Lpay_posterior_lst)\n",
        "    customer_base = name_lst[customer_base_idx]\n",
        "    product_code_lst = buy_p_lst[customer_base_idx].index\n",
        "    product_p_lst = buy_p_lst[customer_base_idx].values\n",
        "    product_code = np.random.choice(product_code_lst, p=product_p_lst)\n",
        "    target_row = product_table[product_table['pd_c'] == product_code]\n",
        "    product_name = str(target_row['pd_nm'])\n",
        "    product_name = product_name.split()[1]\n",
        "    print(f'선택된 고객층: {customer_base}, 선택된 상품: {product_name}')\n",
        "    return customer_base, product_name"
      ]
    },
    {
      "cell_type": "markdown",
      "metadata": {
        "id": "9VBPayyOPIN5"
      },
      "source": [
        "* recommand_product 함수를 여러번 호출하여 광고에 사용할 물품 선택"
      ]
    },
    {
      "cell_type": "code",
      "execution_count": null,
      "metadata": {
        "colab": {
          "base_uri": "https://localhost:8080/"
        },
        "id": "mn4dkbSeOVlu",
        "outputId": "d9fc12ee-0567-49cc-a21c-e62b56ba8397"
      },
      "outputs": [
        {
          "name": "stdout",
          "output_type": "stream",
          "text": [
            "선택된 고객층: 30대 남자, 선택된 상품: PD0171\n",
            "선택된 고객층: 40대 여자, 선택된 상품: PD0178\n",
            "선택된 고객층: 30대 여자, 선택된 상품: PD1156\n",
            "선택된 고객층: 50대 남자, 선택된 상품: PD1182\n",
            "선택된 고객층: 50대 여자, 선택된 상품: PD1352\n",
            "선택된 고객층: 30대 여자, 선택된 상품: PD1387\n",
            "선택된 고객층: 40대 여자, 선택된 상품: PD0480\n",
            "선택된 고객층: 40대 남자, 선택된 상품: PD1314\n",
            "선택된 고객층: 30대 여자, 선택된 상품: PD1155\n",
            "선택된 고객층: 30대 여자, 선택된 상품: PD1154\n"
          ]
        }
      ],
      "source": [
        "for i in range(10):\n",
        "    recommand_product(Lpay_posterior_lst, buy_p_lst, name_lst, data4)"
      ]
    },
    {
      "cell_type": "code",
      "execution_count": null,
      "metadata": {
        "id": "SzCp-JTJP0lA"
      },
      "outputs": [],
      "source": []
    }
  ],
  "metadata": {
    "colab": {
      "collapsed_sections": [],
      "name": "Lpay_Model.ipynb",
      "provenance": []
    },
    "kernelspec": {
      "display_name": "Python 3.8.13 ('dsl')",
      "language": "python",
      "name": "python3"
    },
    "language_info": {
      "codemirror_mode": {
        "name": "ipython",
        "version": 3
      },
      "file_extension": ".py",
      "mimetype": "text/x-python",
      "name": "python",
      "nbconvert_exporter": "python",
      "pygments_lexer": "ipython3",
      "version": "3.8.13"
    },
    "vscode": {
      "interpreter": {
        "hash": "c63b82bda4a59cf6ca173a5561c11d395741e2dc788a905fb35d4e95d98277a6"
      }
    }
  },
  "nbformat": 4,
  "nbformat_minor": 0
}
